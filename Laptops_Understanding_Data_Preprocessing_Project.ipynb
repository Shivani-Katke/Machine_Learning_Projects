{
 "cells": [
  {
   "cell_type": "markdown",
   "id": "4395a4ec-b141-4295-b73a-e5d3aeebfbad",
   "metadata": {},
   "source": [
    "### Step-1: \n",
    "* To perform data Preprocessing first import pandas, numpy, matplotlib, seaborn.\n",
    "* To ignore warnings import warnings."
   ]
  },
  {
   "cell_type": "code",
   "execution_count": 1,
   "id": "311bf423-943b-403d-ae40-7c5289f31f70",
   "metadata": {},
   "outputs": [],
   "source": [
    "import pandas as pd\n",
    "import numpy as np\n",
    "import matplotlib.pyplot as plt\n",
    "import seaborn as sns\n",
    "import warnings\n",
    "warnings.filterwarnings(\"ignore\")"
   ]
  },
  {
   "cell_type": "markdown",
   "id": "c8d9c6cf-7d03-4e40-b2ac-7d76b687d559",
   "metadata": {},
   "source": [
    "### Step-2:\n",
    "* Import the csv or excel file using read_csv or read_excel function to fetch the dataset of the laptops.\n",
    "* Then create a copy of the file as df, so that the actual data do no get changed and remains as it is.\n",
    "* To view top 5 rows we use df.head()."
   ]
  },
  {
   "cell_type": "code",
   "execution_count": 2,
   "id": "a5c11932-231b-4553-a7a9-abcb311e5c09",
   "metadata": {},
   "outputs": [
    {
     "data": {
      "text/html": [
       "<div>\n",
       "<style scoped>\n",
       "    .dataframe tbody tr th:only-of-type {\n",
       "        vertical-align: middle;\n",
       "    }\n",
       "\n",
       "    .dataframe tbody tr th {\n",
       "        vertical-align: top;\n",
       "    }\n",
       "\n",
       "    .dataframe thead th {\n",
       "        text-align: right;\n",
       "    }\n",
       "</style>\n",
       "<table border=\"1\" class=\"dataframe\">\n",
       "  <thead>\n",
       "    <tr style=\"text-align: right;\">\n",
       "      <th></th>\n",
       "      <th>CompanyName</th>\n",
       "      <th>TypeOfLaptop</th>\n",
       "      <th>Inches</th>\n",
       "      <th>ScreenResolution</th>\n",
       "      <th>Cpu</th>\n",
       "      <th>Ram</th>\n",
       "      <th>Memory</th>\n",
       "      <th>Gpu</th>\n",
       "      <th>OpSys</th>\n",
       "      <th>Weight</th>\n",
       "      <th>Price</th>\n",
       "    </tr>\n",
       "  </thead>\n",
       "  <tbody>\n",
       "    <tr>\n",
       "      <th>0</th>\n",
       "      <td>MSI</td>\n",
       "      <td>Business Laptop</td>\n",
       "      <td>17.040680</td>\n",
       "      <td>IPS Panel Retina Display 2560x1600</td>\n",
       "      <td>Intel Core i7</td>\n",
       "      <td>12GB</td>\n",
       "      <td>512GB SSD</td>\n",
       "      <td>Intel Iris Xe Graphics</td>\n",
       "      <td>Linux</td>\n",
       "      <td>2.064834</td>\n",
       "      <td>35844.099371</td>\n",
       "    </tr>\n",
       "    <tr>\n",
       "      <th>1</th>\n",
       "      <td>Chuwi</td>\n",
       "      <td>2 in 1 Convertible</td>\n",
       "      <td>16.542395</td>\n",
       "      <td>Full HD</td>\n",
       "      <td>Intel Core i5</td>\n",
       "      <td>12GB</td>\n",
       "      <td>128GB PCIe SSD</td>\n",
       "      <td>Intel Iris Xe Graphics</td>\n",
       "      <td>No OS</td>\n",
       "      <td>4.060656</td>\n",
       "      <td>37019.059051</td>\n",
       "    </tr>\n",
       "    <tr>\n",
       "      <th>2</th>\n",
       "      <td>hp</td>\n",
       "      <td>WorkStation</td>\n",
       "      <td>17.295294</td>\n",
       "      <td>Full HD</td>\n",
       "      <td>Intel Xeon E3-1505M</td>\n",
       "      <td>8GB</td>\n",
       "      <td>1TB HDD</td>\n",
       "      <td>Intel Iris Xe Graphics</td>\n",
       "      <td>Linux</td>\n",
       "      <td>2.901689</td>\n",
       "      <td>33329.360341</td>\n",
       "    </tr>\n",
       "    <tr>\n",
       "      <th>3</th>\n",
       "      <td>MSI</td>\n",
       "      <td>2 in 1 Convertible</td>\n",
       "      <td>11.526203</td>\n",
       "      <td>2K</td>\n",
       "      <td>Intel Core i7</td>\n",
       "      <td>16GB</td>\n",
       "      <td>512GB NVMe SSD</td>\n",
       "      <td>Intel Iris Xe Graphics</td>\n",
       "      <td>Windows 10</td>\n",
       "      <td>2.914843</td>\n",
       "      <td>68631.102486</td>\n",
       "    </tr>\n",
       "    <tr>\n",
       "      <th>4</th>\n",
       "      <td>Microsoft</td>\n",
       "      <td>Gaming</td>\n",
       "      <td>12.649634</td>\n",
       "      <td>Full HD</td>\n",
       "      <td>Intel Core i5</td>\n",
       "      <td>8GB</td>\n",
       "      <td>512GB SSD</td>\n",
       "      <td>AMD Radeon RX 5600M</td>\n",
       "      <td>Windows 10</td>\n",
       "      <td>4.341995</td>\n",
       "      <td>33842.479566</td>\n",
       "    </tr>\n",
       "  </tbody>\n",
       "</table>\n",
       "</div>"
      ],
      "text/plain": [
       "  CompanyName        TypeOfLaptop     Inches  \\\n",
       "0         MSI     Business Laptop  17.040680   \n",
       "1       Chuwi  2 in 1 Convertible  16.542395   \n",
       "2          hp         WorkStation  17.295294   \n",
       "3         MSI  2 in 1 Convertible  11.526203   \n",
       "4   Microsoft              Gaming  12.649634   \n",
       "\n",
       "                     ScreenResolution                   Cpu   Ram  \\\n",
       "0  IPS Panel Retina Display 2560x1600         Intel Core i7  12GB   \n",
       "1                             Full HD         Intel Core i5  12GB   \n",
       "2                             Full HD  Intel Xeon E3-1505M    8GB   \n",
       "3                                  2K         Intel Core i7  16GB   \n",
       "4                             Full HD         Intel Core i5   8GB   \n",
       "\n",
       "           Memory                     Gpu       OpSys    Weight         Price  \n",
       "0       512GB SSD  Intel Iris Xe Graphics       Linux  2.064834  35844.099371  \n",
       "1  128GB PCIe SSD  Intel Iris Xe Graphics       No OS  4.060656  37019.059051  \n",
       "2         1TB HDD  Intel Iris Xe Graphics       Linux  2.901689  33329.360341  \n",
       "3  512GB NVMe SSD  Intel Iris Xe Graphics  Windows 10  2.914843  68631.102486  \n",
       "4       512GB SSD     AMD Radeon RX 5600M  Windows 10  4.341995  33842.479566  "
      ]
     },
     "execution_count": 2,
     "metadata": {},
     "output_type": "execute_result"
    }
   ],
   "source": [
    "data = pd.read_csv(\"laptops.csv\")\n",
    "df = data.copy()\n",
    "df.head()"
   ]
  },
  {
   "cell_type": "markdown",
   "id": "946c1de4-a223-48ef-b551-83594cb0d5b1",
   "metadata": {},
   "source": [
    "### Step-3:\n",
    "* df.info returns information of the dataset."
   ]
  },
  {
   "cell_type": "code",
   "execution_count": 3,
   "id": "8a76de12-9916-42bd-a0b2-0c820f40c515",
   "metadata": {},
   "outputs": [
    {
     "name": "stdout",
     "output_type": "stream",
     "text": [
      "<class 'pandas.core.frame.DataFrame'>\n",
      "RangeIndex: 1000 entries, 0 to 999\n",
      "Data columns (total 11 columns):\n",
      " #   Column            Non-Null Count  Dtype  \n",
      "---  ------            --------------  -----  \n",
      " 0   CompanyName       1000 non-null   object \n",
      " 1   TypeOfLaptop      1000 non-null   object \n",
      " 2   Inches            1000 non-null   float64\n",
      " 3   ScreenResolution  1000 non-null   object \n",
      " 4   Cpu               1000 non-null   object \n",
      " 5   Ram               1000 non-null   object \n",
      " 6   Memory            1000 non-null   object \n",
      " 7   Gpu               1000 non-null   object \n",
      " 8   OpSys             1000 non-null   object \n",
      " 9   Weight            1000 non-null   float64\n",
      " 10  Price             1000 non-null   float64\n",
      "dtypes: float64(3), object(8)\n",
      "memory usage: 86.1+ KB\n"
     ]
    }
   ],
   "source": [
    "df.info()"
   ]
  },
  {
   "cell_type": "markdown",
   "id": "1ec5433f-8469-442d-ba94-45213406e1bd",
   "metadata": {},
   "source": [
    "#### Description from above dataset.\n",
    "* From the above information, there are total - 1000 entries/rows(0-999) and 11 columns.\n",
    "* From the above data we observe that data type of all the columns are ideal(that means the datatype of the column is proper according to the data inside the column) except Ram and Memory(which is in object(string) but we want it in int datatype).\n",
    "* So our first task is to change the data type of Ram and Memory."
   ]
  },
  {
   "cell_type": "markdown",
   "id": "1e12c7b4-1400-47e1-a7c8-14d9aca38241",
   "metadata": {},
   "source": [
    "### Step-4: \n",
    "* Returns description of numeric data or columns."
   ]
  },
  {
   "cell_type": "code",
   "execution_count": 4,
   "id": "cc1f0b14-59cc-47fa-9b34-ae80c60e2cfa",
   "metadata": {},
   "outputs": [
    {
     "data": {
      "text/html": [
       "<div>\n",
       "<style scoped>\n",
       "    .dataframe tbody tr th:only-of-type {\n",
       "        vertical-align: middle;\n",
       "    }\n",
       "\n",
       "    .dataframe tbody tr th {\n",
       "        vertical-align: top;\n",
       "    }\n",
       "\n",
       "    .dataframe thead th {\n",
       "        text-align: right;\n",
       "    }\n",
       "</style>\n",
       "<table border=\"1\" class=\"dataframe\">\n",
       "  <thead>\n",
       "    <tr style=\"text-align: right;\">\n",
       "      <th></th>\n",
       "      <th>Inches</th>\n",
       "      <th>Weight</th>\n",
       "      <th>Price</th>\n",
       "    </tr>\n",
       "  </thead>\n",
       "  <tbody>\n",
       "    <tr>\n",
       "      <th>count</th>\n",
       "      <td>1000.000000</td>\n",
       "      <td>1000.000000</td>\n",
       "      <td>1000.000000</td>\n",
       "    </tr>\n",
       "    <tr>\n",
       "      <th>mean</th>\n",
       "      <td>14.496646</td>\n",
       "      <td>3.469800</td>\n",
       "      <td>51602.255339</td>\n",
       "    </tr>\n",
       "    <tr>\n",
       "      <th>std</th>\n",
       "      <td>2.066624</td>\n",
       "      <td>0.857112</td>\n",
       "      <td>13802.833231</td>\n",
       "    </tr>\n",
       "    <tr>\n",
       "      <th>min</th>\n",
       "      <td>11.005842</td>\n",
       "      <td>2.000819</td>\n",
       "      <td>30060.275100</td>\n",
       "    </tr>\n",
       "    <tr>\n",
       "      <th>25%</th>\n",
       "      <td>12.677791</td>\n",
       "      <td>2.720228</td>\n",
       "      <td>40376.617670</td>\n",
       "    </tr>\n",
       "    <tr>\n",
       "      <th>50%</th>\n",
       "      <td>14.509298</td>\n",
       "      <td>3.477824</td>\n",
       "      <td>50683.971717</td>\n",
       "    </tr>\n",
       "    <tr>\n",
       "      <th>75%</th>\n",
       "      <td>16.313026</td>\n",
       "      <td>4.189891</td>\n",
       "      <td>61897.280126</td>\n",
       "    </tr>\n",
       "    <tr>\n",
       "      <th>max</th>\n",
       "      <td>17.998786</td>\n",
       "      <td>4.994556</td>\n",
       "      <td>115137.368077</td>\n",
       "    </tr>\n",
       "  </tbody>\n",
       "</table>\n",
       "</div>"
      ],
      "text/plain": [
       "            Inches       Weight          Price\n",
       "count  1000.000000  1000.000000    1000.000000\n",
       "mean     14.496646     3.469800   51602.255339\n",
       "std       2.066624     0.857112   13802.833231\n",
       "min      11.005842     2.000819   30060.275100\n",
       "25%      12.677791     2.720228   40376.617670\n",
       "50%      14.509298     3.477824   50683.971717\n",
       "75%      16.313026     4.189891   61897.280126\n",
       "max      17.998786     4.994556  115137.368077"
      ]
     },
     "execution_count": 4,
     "metadata": {},
     "output_type": "execute_result"
    }
   ],
   "source": [
    "df.describe() # gives description of the numeric data"
   ]
  },
  {
   "cell_type": "markdown",
   "id": "46c377fd-0f4c-43b1-b26a-d6265068cae8",
   "metadata": {},
   "source": [
    "#### Description from above data\n",
    "* From the above description we observe that the count for inches, weight, adn price is same i.e., 1000\n",
    "* Mean of Inches is 14.5 and std. deviation is 2 which means that our screen can be 8 inches, 10inches, 12inches, 16inches, 18inches etc \n",
    "* Minimum screen size is 11 inches and 25 % of screen size are under 12.67 inches and maximum screen size is 17.99.\n",
    "* Here we can see that mean and median(50%) data is almost same, which means that our data is normally distributed.\n",
    "* Same for Weight and Price, data is normally distributed."
   ]
  },
  {
   "cell_type": "markdown",
   "id": "9a09fb47-c332-44dd-be4c-de7886f76870",
   "metadata": {},
   "source": [
    "##### Now we have to see what are changes we have to do, to make our data generalize/clean/normalize or denoise."
   ]
  },
  {
   "cell_type": "markdown",
   "id": "6f17dc3e-08b7-468c-8364-059516434b6e",
   "metadata": {},
   "source": [
    "### Step-5:\n",
    "* Now we pick first column\n",
    "* To get the data of a particular column we use df[\"ColumnName\"]value_counts."
   ]
  },
  {
   "cell_type": "code",
   "execution_count": 5,
   "id": "7031ef77-1386-4f52-a72f-5d864e3b7586",
   "metadata": {},
   "outputs": [
    {
     "data": {
      "text/plain": [
       "CompanyName\n",
       "MSI          128\n",
       "Microsoft    118\n",
       "Apple        113\n",
       "lenevo       113\n",
       "Asus         112\n",
       "Chuwi        109\n",
       "Acer         107\n",
       "Dell         101\n",
       "hp            99\n",
       "Name: count, dtype: int64"
      ]
     },
     "execution_count": 5,
     "metadata": {},
     "output_type": "execute_result"
    }
   ],
   "source": [
    "# First column\n",
    "df[\"CompanyName\"].value_counts()"
   ]
  },
  {
   "cell_type": "markdown",
   "id": "cf892baf-d1f1-431d-9384-225fa90595be",
   "metadata": {},
   "source": [
    "* As we observe that the name \"Chuwi\" is not familiar so we will replace chuwi with Samsung. For this we will use replace command."
   ]
  },
  {
   "cell_type": "code",
   "execution_count": 6,
   "id": "571175dc-a074-4dad-a776-b2a1e67da0b1",
   "metadata": {},
   "outputs": [],
   "source": [
    "# Changing name of the company\n",
    "df[\"CompanyName\"] = df[\"CompanyName\"].replace(\"Chuwi\",\"Samsung\")"
   ]
  },
  {
   "cell_type": "code",
   "execution_count": 7,
   "id": "23b7c093-2452-4732-b84d-2062b6b4f336",
   "metadata": {},
   "outputs": [
    {
     "data": {
      "text/plain": [
       "CompanyName\n",
       "MSI          128\n",
       "Microsoft    118\n",
       "Apple        113\n",
       "lenevo       113\n",
       "Asus         112\n",
       "Samsung      109\n",
       "Acer         107\n",
       "Dell         101\n",
       "hp            99\n",
       "Name: count, dtype: int64"
      ]
     },
     "execution_count": 7,
     "metadata": {},
     "output_type": "execute_result"
    }
   ],
   "source": [
    "# To see if changes are done or not we will use value_count \n",
    "df[\"CompanyName\"].value_counts()"
   ]
  },
  {
   "cell_type": "markdown",
   "id": "17d881b0-3fe7-4b8f-95d3-fda890d1c86f",
   "metadata": {},
   "source": [
    "### Step-6:"
   ]
  },
  {
   "cell_type": "code",
   "execution_count": 8,
   "id": "d252bf0d-8f67-4ab4-893d-77fce6e23739",
   "metadata": {},
   "outputs": [
    {
     "data": {
      "text/plain": [
       "TypeOfLaptop\n",
       "Business Laptop       176\n",
       "WorkStation           175\n",
       "Gaming                168\n",
       "UltraBook             166\n",
       "2 in 1 Convertible    162\n",
       "NoteBook              153\n",
       "Name: count, dtype: int64"
      ]
     },
     "execution_count": 8,
     "metadata": {},
     "output_type": "execute_result"
    }
   ],
   "source": [
    "# Second Column -> To view data in typeoflaptop column use value_counts.\n",
    "df[\"TypeOfLaptop\"].value_counts()"
   ]
  },
  {
   "cell_type": "markdown",
   "id": "94dfc187-6d03-4b92-ad00-de19604804f0",
   "metadata": {},
   "source": [
    "* Here we can see that the name are too long so we will replace them with short names using replace command."
   ]
  },
  {
   "cell_type": "code",
   "execution_count": 9,
   "id": "a6bfd5c1-a41f-4d76-800f-4994fbf87c5c",
   "metadata": {},
   "outputs": [],
   "source": [
    "df[\"TypeOfLaptop\"]  = df[\"TypeOfLaptop\"].replace(\"Business Laptop\",\"Business\")\n",
    "df[\"TypeOfLaptop\"]  = df[\"TypeOfLaptop\"].replace(\"2 in 1 Convertible\",\"2_in_1\")"
   ]
  },
  {
   "cell_type": "code",
   "execution_count": 10,
   "id": "f5f4ade3-e887-4952-8359-0576fb473d39",
   "metadata": {},
   "outputs": [
    {
     "data": {
      "text/plain": [
       "TypeOfLaptop\n",
       "Business       176\n",
       "WorkStation    175\n",
       "Gaming         168\n",
       "UltraBook      166\n",
       "2_in_1         162\n",
       "NoteBook       153\n",
       "Name: count, dtype: int64"
      ]
     },
     "execution_count": 10,
     "metadata": {},
     "output_type": "execute_result"
    }
   ],
   "source": [
    "# Applying value_counts() to see if the changes have been done or not.\n",
    "df[\"TypeOfLaptop\"].value_counts()"
   ]
  },
  {
   "cell_type": "markdown",
   "id": "11179a4c-d81a-440c-8175-d2748e25cfcf",
   "metadata": {},
   "source": [
    "### Step-7: \n",
    "* Here the datatype of Inches is float64 , so we will convert it into int64.\n",
    "* For this we have used \".astype(\"datatype\")\" method."
   ]
  },
  {
   "cell_type": "code",
   "execution_count": 11,
   "id": "49d32bf6-8956-479d-a72c-0193d3ce8260",
   "metadata": {},
   "outputs": [],
   "source": [
    "# Third Column\n",
    "# changing datatype\n",
    "df[\"Inches\"] = df[\"Inches\"].astype(\"int64\")"
   ]
  },
  {
   "cell_type": "code",
   "execution_count": 12,
   "id": "3bd16819-a799-42f4-9ca1-31415e1666b6",
   "metadata": {},
   "outputs": [
    {
     "data": {
      "text/plain": [
       "dtype('int64')"
      ]
     },
     "execution_count": 12,
     "metadata": {},
     "output_type": "execute_result"
    }
   ],
   "source": [
    "# \".dtype\" is use to check the datatype of Inches Column.\n",
    "df[\"Inches\"].dtype"
   ]
  },
  {
   "cell_type": "markdown",
   "id": "dce0fde7-0ed1-4e29-aa8d-378fb10b81da",
   "metadata": {},
   "source": [
    "### Step-8: "
   ]
  },
  {
   "cell_type": "code",
   "execution_count": 13,
   "id": "58f933c5-91f5-4102-9fbd-af2be5581b94",
   "metadata": {},
   "outputs": [
    {
     "data": {
      "text/plain": [
       "ScreenResolution\n",
       "2K                                           181\n",
       "4K                                           179\n",
       "IPS Panel Full HD / Touchscreen 1920x1080    176\n",
       "Full HD                                      162\n",
       "HD 1920x1080                                 160\n",
       "IPS Panel Retina Display 2560x1600           142\n",
       "Name: count, dtype: int64"
      ]
     },
     "execution_count": 13,
     "metadata": {},
     "output_type": "execute_result"
    }
   ],
   "source": [
    "# Fourth Column -> To see data of column we will use value_counts method.\n",
    "df[\"ScreenResolution\"].value_counts()"
   ]
  },
  {
   "cell_type": "markdown",
   "id": "18d596d6-7b08-4a8d-a0d6-b5bc08b783e3",
   "metadata": {},
   "source": [
    "* Here we can observe that the names are too long so we decided to convert the name in shorter format."
   ]
  },
  {
   "cell_type": "code",
   "execution_count": 14,
   "id": "905ef0f1-2a40-4b77-a73d-7c816a79b283",
   "metadata": {},
   "outputs": [],
   "source": [
    "# changing long names of screen resolution colmn\n",
    "df[\"ScreenResolution\"] = df[\"ScreenResolution\"].replace(\"IPS Panel Full HD / Touchscreen 1920x1080\", \"TouchScreen\")\n",
    "df[\"ScreenResolution\"] = df[\"ScreenResolution\"].replace(\"HD 1920x1080\", \"HD\")\n",
    "df[\"ScreenResolution\"] = df[\"ScreenResolution\"].replace(\"IPS Panel Retina Display 2560x1600\", \"Retina Display\")"
   ]
  },
  {
   "cell_type": "code",
   "execution_count": 15,
   "id": "a132e0a2-9824-4c1b-88c1-08f6180aa16b",
   "metadata": {},
   "outputs": [
    {
     "data": {
      "text/plain": [
       "ScreenResolution\n",
       "2K                181\n",
       "4K                179\n",
       "TouchScreen       176\n",
       "Full HD           162\n",
       "HD 1920x1080      160\n",
       "Retina Display    142\n",
       "Name: count, dtype: int64"
      ]
     },
     "execution_count": 15,
     "metadata": {},
     "output_type": "execute_result"
    }
   ],
   "source": [
    "# Applying value_counts() to see if the changes have been done or not.\n",
    "df[\"ScreenResolution\"].value_counts()"
   ]
  },
  {
   "cell_type": "markdown",
   "id": "7f7faca6-f95e-4adc-9580-cfba700318c9",
   "metadata": {},
   "source": [
    "### Step-9:"
   ]
  },
  {
   "cell_type": "code",
   "execution_count": 16,
   "id": "a40bd103-efae-4251-97d6-4171b50270c5",
   "metadata": {},
   "outputs": [
    {
     "data": {
      "text/plain": [
       "Cpu\n",
       "Intel Xeon E3-1505M               114\n",
       "Intel Atom x5-Z8550               111\n",
       "Intel Core i5                     105\n",
       "Intel Pentium Quad Core N4200     101\n",
       "Intel Celeron Dual Core 3855U      98\n",
       "Intel Core i7                      96\n",
       "Intel Core i9                      95\n",
       "AMD Ryzen 5                        94\n",
       "AMD Ryzen 7                        94\n",
       "AMD A9-Series 9420                 92\n",
       "Name: count, dtype: int64"
      ]
     },
     "execution_count": 16,
     "metadata": {},
     "output_type": "execute_result"
    }
   ],
   "source": [
    "# Fifth Column name -> To view data in cpu column\n",
    "df[\"Cpu\"].value_counts()"
   ]
  },
  {
   "cell_type": "markdown",
   "id": "f671c64d-a41a-49f4-b4a1-b200a2e840e9",
   "metadata": {},
   "source": [
    "* Here we can observe that the names are too long so will convert the name in shorter format."
   ]
  },
  {
   "cell_type": "code",
   "execution_count": 17,
   "id": "1a065b1e-6fc4-4ac4-a95f-1dc8719e3dcd",
   "metadata": {},
   "outputs": [],
   "source": [
    "df[\"Cpu\"] = df[\"Cpu\"].replace(\"Intel Xeon E3-1505M \",\"Intel Xeon\")\n",
    "df[\"Cpu\"] = df[\"Cpu\"].replace(\"Intel Atom x5-Z8550\",\"Intel Atom\")\n",
    "df[\"Cpu\"] = df[\"Cpu\"].replace(\"Intel Core i7\",\"Intel i7\")\n",
    "df[\"Cpu\"] = df[\"Cpu\"].replace(\"Intel Core i5\",\"Intel i5\")\n",
    "df[\"Cpu\"] = df[\"Cpu\"].replace(\"Intel Core i9\",\"Intel i9\")\n",
    "df[\"Cpu\"] = df[\"Cpu\"].replace(\"Intel Pentium Quad Core N4200\",\"Intel Pentium\")\n",
    "df[\"Cpu\"] = df[\"Cpu\"].replace(\"Intel Celeron Dual Core 3855U \",\"Intel Celeron\")\n",
    "df[\"Cpu\"] = df[\"Cpu\"].replace(\"AMD Ryzen 5\",\"AMD 5\")\n",
    "df[\"Cpu\"] = df[\"Cpu\"].replace(\"AMD Ryzen 7\",\"AMD 7\")\n",
    "df[\"Cpu\"] = df[\"Cpu\"].replace(\"AMD A9-Series 9420\",\"AMD A9\")"
   ]
  },
  {
   "cell_type": "code",
   "execution_count": 18,
   "id": "b0eb77db-fe08-427f-9a5a-735c4fa0d122",
   "metadata": {},
   "outputs": [
    {
     "data": {
      "text/plain": [
       "Cpu\n",
       "Intel Xeon       114\n",
       "Intel Atom       111\n",
       "Intel i5         105\n",
       "Intel Pentium    101\n",
       "Intel Celeron     98\n",
       "Intel i7          96\n",
       "Intel i9          95\n",
       "AMD 5             94\n",
       "AMD 7             94\n",
       "AMD A9            92\n",
       "Name: count, dtype: int64"
      ]
     },
     "execution_count": 18,
     "metadata": {},
     "output_type": "execute_result"
    }
   ],
   "source": [
    "# Applied value_counts() to confirm the changes.\n",
    "df[\"Cpu\"].value_counts()"
   ]
  },
  {
   "cell_type": "markdown",
   "id": "5c4127e4-bfa9-4c9a-bea8-f48278b3bb9f",
   "metadata": {},
   "source": [
    "### Step-10:"
   ]
  },
  {
   "cell_type": "code",
   "execution_count": 19,
   "id": "7158053e-5046-4c6b-8ccd-79859f266f02",
   "metadata": {},
   "outputs": [
    {
     "data": {
      "text/plain": [
       "Ram\n",
       "8GB     270\n",
       "12GB    247\n",
       "4GB     243\n",
       "16GB    240\n",
       "Name: count, dtype: int64"
      ]
     },
     "execution_count": 19,
     "metadata": {},
     "output_type": "execute_result"
    }
   ],
   "source": [
    "# Sixth Column -> To view data in Ram column\n",
    "df[\"Ram\"].value_counts()"
   ]
  },
  {
   "cell_type": "markdown",
   "id": "290f7cd6-6910-40a9-8621-ffb69e37dc1d",
   "metadata": {},
   "source": [
    "* Now as we can see Ram is given as 8GB, 12GB etc so to we want to remove GB.\n",
    "* For this we replace GB with blank space \" \"."
   ]
  },
  {
   "cell_type": "code",
   "execution_count": 20,
   "id": "55d768c2-6e5e-4a79-a4fa-2e83898d3f57",
   "metadata": {},
   "outputs": [],
   "source": [
    "# replacing GB with blank space \" \"\n",
    "df[\"Ram\"] = df[\"Ram\"].str.replace(\"GB\",\"\")"
   ]
  },
  {
   "cell_type": "code",
   "execution_count": 21,
   "id": "d0eac2a7-f99b-41ac-b01f-1f02a0711f68",
   "metadata": {},
   "outputs": [],
   "source": [
    "# changing datatyoe of Ram to int64.\n",
    "df[\"Ram\"] = df[\"Ram\"].astype(\"int64\")"
   ]
  },
  {
   "cell_type": "code",
   "execution_count": 22,
   "id": "c52caaef-a76c-48b6-8cfa-504edfd23277",
   "metadata": {},
   "outputs": [
    {
     "data": {
      "text/plain": [
       "Ram\n",
       "8     270\n",
       "12    247\n",
       "4     243\n",
       "16    240\n",
       "Name: count, dtype: int64"
      ]
     },
     "execution_count": 22,
     "metadata": {},
     "output_type": "execute_result"
    }
   ],
   "source": [
    "# Checking if the values or changes got updated or not.\n",
    "df[\"Ram\"].value_counts()"
   ]
  },
  {
   "cell_type": "markdown",
   "id": "50e1eb5d-48f7-4a21-8db3-a4fbb4b2d4ba",
   "metadata": {},
   "source": [
    "### Step-12:"
   ]
  },
  {
   "cell_type": "code",
   "execution_count": 23,
   "id": "a21dc6a3-d6d4-4caa-93ea-dbc11707a49a",
   "metadata": {},
   "outputs": [
    {
     "data": {
      "text/plain": [
       "Memory\n",
       "1TB HDD                105\n",
       "2TB SATA SSD            63\n",
       "1TB SSHD                61\n",
       "4TB HDD                 60\n",
       "512GB eMMC              59\n",
       "128GB PCIe SSD          58\n",
       "1TB NVMe SSD            55\n",
       "256GB PCIe SSD          55\n",
       "512GB NVMe SSD          54\n",
       "512GB SSD               51\n",
       "256GB SSD               50\n",
       "2TB HDD                 50\n",
       "1TB Fusion Drive        50\n",
       "2TB NVMe SSD            49\n",
       "256GB Flash Storage     46\n",
       "6TB HDD                 45\n",
       "256GB eMMC              45\n",
       "128GB SSD               44\n",
       "Name: count, dtype: int64"
      ]
     },
     "execution_count": 23,
     "metadata": {},
     "output_type": "execute_result"
    }
   ],
   "source": [
    "# Seventh Column -> Data in memory column\n",
    "df[\"Memory\"].value_counts()"
   ]
  },
  {
   "cell_type": "markdown",
   "id": "96145d1a-d69c-4d78-ba65-ddd76ff32f95",
   "metadata": {},
   "source": [
    "* From the data in the memory column we understand that some names are too big in length, which can create problem, therefore we will make them short using \"replace\".\n",
    "* Also we can see that there are two of memory ssd and hdd, so we will create two seperate columns for both.                     \n",
    "* Also we will take care of spaces and text while making them short.                                                                 "
   ]
  },
  {
   "cell_type": "code",
   "execution_count": 24,
   "id": "eb084a70-b4c0-48b7-ba1c-d8ea21b32dce",
   "metadata": {},
   "outputs": [],
   "source": [
    "df[\"Memory\"] = df[\"Memory\"].str.replace(\"SATA \",\"\")\n",
    "df[\"Memory\"] = df[\"Memory\"].str.replace(\"SSHD\",\"SSD\")\n",
    "df[\"Memory\"] = df[\"Memory\"].str.replace(\"eMMC\",\"SSD\")\n",
    "df[\"Memory\"] = df[\"Memory\"].str.replace(\"PCIe \",\"\")\n",
    "df[\"Memory\"] = df[\"Memory\"].str.replace(\"NVMe \",\"\")\n",
    "df[\"Memory\"] = df[\"Memory\"].str.replace(\"Fusion Drive\",\"HDD\")\n",
    "df[\"Memory\"] = df[\"Memory\"].str.replace(\"Flash Storage\",\"SSD\")"
   ]
  },
  {
   "cell_type": "code",
   "execution_count": 25,
   "id": "c1c8db9e-0e0e-41e2-bc98-b4b18083303f",
   "metadata": {},
   "outputs": [
    {
     "data": {
      "text/plain": [
       "Memory\n",
       "256GB SSD    196\n",
       "512GB SSD    164\n",
       "1TB HDD      155\n",
       "1TB SSD      116\n",
       "2TB SSD      112\n",
       "128GB SSD    102\n",
       "4TB HDD       60\n",
       "2TB HDD       50\n",
       "6TB HDD       45\n",
       "Name: count, dtype: int64"
      ]
     },
     "execution_count": 25,
     "metadata": {},
     "output_type": "execute_result"
    }
   ],
   "source": [
    "# Checking is the values or changes got updated or not.\n",
    "df[\"Memory\"].value_counts()"
   ]
  },
  {
   "cell_type": "code",
   "execution_count": 26,
   "id": "2e3d03ab-bf4a-4620-8b5f-c321824b5c4a",
   "metadata": {},
   "outputs": [],
   "source": [
    "# creating a list which consist SSD in their text otherwise make it 0.\n",
    "## here x[:-3] -> counts values from the end as -1,-2,-3 till -3 there are hdd there we \n",
    "# will leave those and check from -3 to whole list.\n",
    "dummy_ssd = list(map(lambda x: x[:-3] if x[-3:] == \"SSD\" else \"0\", df[\"Memory\"]))"
   ]
  },
  {
   "cell_type": "code",
   "execution_count": 27,
   "id": "9b6f332d-b964-4232-a025-ac06ed8a5f4a",
   "metadata": {},
   "outputs": [
    {
     "data": {
      "text/plain": [
       "1000"
      ]
     },
     "execution_count": 27,
     "metadata": {},
     "output_type": "execute_result"
    }
   ],
   "source": [
    "len(dummy_ssd)"
   ]
  },
  {
   "cell_type": "code",
   "execution_count": 28,
   "id": "8a0cae69-f3da-40a7-9530-be96bcd7a4fd",
   "metadata": {},
   "outputs": [],
   "source": [
    "# creating a list which consits HDD in their names otherwise make it 0.\n",
    "dummy_hdd = list(map(lambda x: x[:-3] if x[-3:] == \"HDD\" else \"0\", df[\"Memory\"]))"
   ]
  },
  {
   "cell_type": "code",
   "execution_count": 29,
   "id": "832dcf91-e872-40a6-bd77-901ccb1d8c4b",
   "metadata": {},
   "outputs": [
    {
     "data": {
      "text/plain": [
       "1000"
      ]
     },
     "execution_count": 29,
     "metadata": {},
     "output_type": "execute_result"
    }
   ],
   "source": [
    "len(dummy_hdd)"
   ]
  },
  {
   "cell_type": "code",
   "execution_count": 30,
   "id": "07cd9a67-aedd-4033-8bda-9cbe1949986a",
   "metadata": {},
   "outputs": [],
   "source": [
    "# Assigning variable and creating two seperate columns as SSD and HDD.\n",
    "df[\"SSD\"] = dummy_ssd\n",
    "df[\"HDD\"] = dummy_hdd"
   ]
  },
  {
   "cell_type": "code",
   "execution_count": 31,
   "id": "92f048bb-8b46-47fd-a8e9-2f75f84b340c",
   "metadata": {},
   "outputs": [
    {
     "data": {
      "text/html": [
       "<div>\n",
       "<style scoped>\n",
       "    .dataframe tbody tr th:only-of-type {\n",
       "        vertical-align: middle;\n",
       "    }\n",
       "\n",
       "    .dataframe tbody tr th {\n",
       "        vertical-align: top;\n",
       "    }\n",
       "\n",
       "    .dataframe thead th {\n",
       "        text-align: right;\n",
       "    }\n",
       "</style>\n",
       "<table border=\"1\" class=\"dataframe\">\n",
       "  <thead>\n",
       "    <tr style=\"text-align: right;\">\n",
       "      <th></th>\n",
       "      <th>CompanyName</th>\n",
       "      <th>TypeOfLaptop</th>\n",
       "      <th>Inches</th>\n",
       "      <th>ScreenResolution</th>\n",
       "      <th>Cpu</th>\n",
       "      <th>Ram</th>\n",
       "      <th>Memory</th>\n",
       "      <th>Gpu</th>\n",
       "      <th>OpSys</th>\n",
       "      <th>Weight</th>\n",
       "      <th>Price</th>\n",
       "      <th>SSD</th>\n",
       "      <th>HDD</th>\n",
       "    </tr>\n",
       "  </thead>\n",
       "  <tbody>\n",
       "    <tr>\n",
       "      <th>0</th>\n",
       "      <td>MSI</td>\n",
       "      <td>Business</td>\n",
       "      <td>17</td>\n",
       "      <td>Retina Display</td>\n",
       "      <td>Intel i7</td>\n",
       "      <td>12</td>\n",
       "      <td>512GB SSD</td>\n",
       "      <td>Intel Iris Xe Graphics</td>\n",
       "      <td>Linux</td>\n",
       "      <td>2.064834</td>\n",
       "      <td>35844.099371</td>\n",
       "      <td>512GB</td>\n",
       "      <td>0</td>\n",
       "    </tr>\n",
       "    <tr>\n",
       "      <th>1</th>\n",
       "      <td>Samsung</td>\n",
       "      <td>2_in_1</td>\n",
       "      <td>16</td>\n",
       "      <td>Full HD</td>\n",
       "      <td>Intel i5</td>\n",
       "      <td>12</td>\n",
       "      <td>128GB SSD</td>\n",
       "      <td>Intel Iris Xe Graphics</td>\n",
       "      <td>No OS</td>\n",
       "      <td>4.060656</td>\n",
       "      <td>37019.059051</td>\n",
       "      <td>128GB</td>\n",
       "      <td>0</td>\n",
       "    </tr>\n",
       "    <tr>\n",
       "      <th>2</th>\n",
       "      <td>hp</td>\n",
       "      <td>WorkStation</td>\n",
       "      <td>17</td>\n",
       "      <td>Full HD</td>\n",
       "      <td>Intel Xeon</td>\n",
       "      <td>8</td>\n",
       "      <td>1TB HDD</td>\n",
       "      <td>Intel Iris Xe Graphics</td>\n",
       "      <td>Linux</td>\n",
       "      <td>2.901689</td>\n",
       "      <td>33329.360341</td>\n",
       "      <td>0</td>\n",
       "      <td>1TB</td>\n",
       "    </tr>\n",
       "    <tr>\n",
       "      <th>3</th>\n",
       "      <td>MSI</td>\n",
       "      <td>2_in_1</td>\n",
       "      <td>11</td>\n",
       "      <td>2K</td>\n",
       "      <td>Intel i7</td>\n",
       "      <td>16</td>\n",
       "      <td>512GB SSD</td>\n",
       "      <td>Intel Iris Xe Graphics</td>\n",
       "      <td>Windows 10</td>\n",
       "      <td>2.914843</td>\n",
       "      <td>68631.102486</td>\n",
       "      <td>512GB</td>\n",
       "      <td>0</td>\n",
       "    </tr>\n",
       "    <tr>\n",
       "      <th>4</th>\n",
       "      <td>Microsoft</td>\n",
       "      <td>Gaming</td>\n",
       "      <td>12</td>\n",
       "      <td>Full HD</td>\n",
       "      <td>Intel i5</td>\n",
       "      <td>8</td>\n",
       "      <td>512GB SSD</td>\n",
       "      <td>AMD Radeon RX 5600M</td>\n",
       "      <td>Windows 10</td>\n",
       "      <td>4.341995</td>\n",
       "      <td>33842.479566</td>\n",
       "      <td>512GB</td>\n",
       "      <td>0</td>\n",
       "    </tr>\n",
       "  </tbody>\n",
       "</table>\n",
       "</div>"
      ],
      "text/plain": [
       "  CompanyName TypeOfLaptop  Inches ScreenResolution         Cpu  Ram  \\\n",
       "0         MSI     Business      17   Retina Display    Intel i7   12   \n",
       "1     Samsung       2_in_1      16          Full HD    Intel i5   12   \n",
       "2          hp  WorkStation      17          Full HD  Intel Xeon    8   \n",
       "3         MSI       2_in_1      11               2K    Intel i7   16   \n",
       "4   Microsoft       Gaming      12          Full HD    Intel i5    8   \n",
       "\n",
       "      Memory                     Gpu       OpSys    Weight         Price  \\\n",
       "0  512GB SSD  Intel Iris Xe Graphics       Linux  2.064834  35844.099371   \n",
       "1  128GB SSD  Intel Iris Xe Graphics       No OS  4.060656  37019.059051   \n",
       "2    1TB HDD  Intel Iris Xe Graphics       Linux  2.901689  33329.360341   \n",
       "3  512GB SSD  Intel Iris Xe Graphics  Windows 10  2.914843  68631.102486   \n",
       "4  512GB SSD     AMD Radeon RX 5600M  Windows 10  4.341995  33842.479566   \n",
       "\n",
       "      SSD   HDD  \n",
       "0  512GB      0  \n",
       "1  128GB      0  \n",
       "2       0  1TB   \n",
       "3  512GB      0  \n",
       "4  512GB      0  "
      ]
     },
     "execution_count": 31,
     "metadata": {},
     "output_type": "execute_result"
    }
   ],
   "source": [
    "df.head()"
   ]
  },
  {
   "cell_type": "markdown",
   "id": "369bc9e7-3524-43d9-a5a6-a22fdb9b378e",
   "metadata": {},
   "source": [
    "### Step-13: "
   ]
  },
  {
   "cell_type": "code",
   "execution_count": 32,
   "id": "b3e7de80-5f0c-4227-918c-1266eba405ab",
   "metadata": {},
   "outputs": [],
   "source": [
    "# No use of memory column therefore dropping the column \n",
    "df.drop(\"Memory\", axis = 1, inplace=True)"
   ]
  },
  {
   "cell_type": "code",
   "execution_count": 33,
   "id": "dc28efd7-08fb-42ee-9cfa-5e2dd5ff93fa",
   "metadata": {},
   "outputs": [
    {
     "data": {
      "text/html": [
       "<div>\n",
       "<style scoped>\n",
       "    .dataframe tbody tr th:only-of-type {\n",
       "        vertical-align: middle;\n",
       "    }\n",
       "\n",
       "    .dataframe tbody tr th {\n",
       "        vertical-align: top;\n",
       "    }\n",
       "\n",
       "    .dataframe thead th {\n",
       "        text-align: right;\n",
       "    }\n",
       "</style>\n",
       "<table border=\"1\" class=\"dataframe\">\n",
       "  <thead>\n",
       "    <tr style=\"text-align: right;\">\n",
       "      <th></th>\n",
       "      <th>CompanyName</th>\n",
       "      <th>TypeOfLaptop</th>\n",
       "      <th>Inches</th>\n",
       "      <th>ScreenResolution</th>\n",
       "      <th>Cpu</th>\n",
       "      <th>Ram</th>\n",
       "      <th>Gpu</th>\n",
       "      <th>OpSys</th>\n",
       "      <th>Weight</th>\n",
       "      <th>Price</th>\n",
       "      <th>SSD</th>\n",
       "      <th>HDD</th>\n",
       "    </tr>\n",
       "  </thead>\n",
       "  <tbody>\n",
       "    <tr>\n",
       "      <th>0</th>\n",
       "      <td>MSI</td>\n",
       "      <td>Business</td>\n",
       "      <td>17</td>\n",
       "      <td>Retina Display</td>\n",
       "      <td>Intel i7</td>\n",
       "      <td>12</td>\n",
       "      <td>Intel Iris Xe Graphics</td>\n",
       "      <td>Linux</td>\n",
       "      <td>2.064834</td>\n",
       "      <td>35844.099371</td>\n",
       "      <td>512GB</td>\n",
       "      <td>0</td>\n",
       "    </tr>\n",
       "    <tr>\n",
       "      <th>1</th>\n",
       "      <td>Samsung</td>\n",
       "      <td>2_in_1</td>\n",
       "      <td>16</td>\n",
       "      <td>Full HD</td>\n",
       "      <td>Intel i5</td>\n",
       "      <td>12</td>\n",
       "      <td>Intel Iris Xe Graphics</td>\n",
       "      <td>No OS</td>\n",
       "      <td>4.060656</td>\n",
       "      <td>37019.059051</td>\n",
       "      <td>128GB</td>\n",
       "      <td>0</td>\n",
       "    </tr>\n",
       "    <tr>\n",
       "      <th>2</th>\n",
       "      <td>hp</td>\n",
       "      <td>WorkStation</td>\n",
       "      <td>17</td>\n",
       "      <td>Full HD</td>\n",
       "      <td>Intel Xeon</td>\n",
       "      <td>8</td>\n",
       "      <td>Intel Iris Xe Graphics</td>\n",
       "      <td>Linux</td>\n",
       "      <td>2.901689</td>\n",
       "      <td>33329.360341</td>\n",
       "      <td>0</td>\n",
       "      <td>1TB</td>\n",
       "    </tr>\n",
       "    <tr>\n",
       "      <th>3</th>\n",
       "      <td>MSI</td>\n",
       "      <td>2_in_1</td>\n",
       "      <td>11</td>\n",
       "      <td>2K</td>\n",
       "      <td>Intel i7</td>\n",
       "      <td>16</td>\n",
       "      <td>Intel Iris Xe Graphics</td>\n",
       "      <td>Windows 10</td>\n",
       "      <td>2.914843</td>\n",
       "      <td>68631.102486</td>\n",
       "      <td>512GB</td>\n",
       "      <td>0</td>\n",
       "    </tr>\n",
       "    <tr>\n",
       "      <th>4</th>\n",
       "      <td>Microsoft</td>\n",
       "      <td>Gaming</td>\n",
       "      <td>12</td>\n",
       "      <td>Full HD</td>\n",
       "      <td>Intel i5</td>\n",
       "      <td>8</td>\n",
       "      <td>AMD Radeon RX 5600M</td>\n",
       "      <td>Windows 10</td>\n",
       "      <td>4.341995</td>\n",
       "      <td>33842.479566</td>\n",
       "      <td>512GB</td>\n",
       "      <td>0</td>\n",
       "    </tr>\n",
       "  </tbody>\n",
       "</table>\n",
       "</div>"
      ],
      "text/plain": [
       "  CompanyName TypeOfLaptop  Inches ScreenResolution         Cpu  Ram  \\\n",
       "0         MSI     Business      17   Retina Display    Intel i7   12   \n",
       "1     Samsung       2_in_1      16          Full HD    Intel i5   12   \n",
       "2          hp  WorkStation      17          Full HD  Intel Xeon    8   \n",
       "3         MSI       2_in_1      11               2K    Intel i7   16   \n",
       "4   Microsoft       Gaming      12          Full HD    Intel i5    8   \n",
       "\n",
       "                      Gpu       OpSys    Weight         Price     SSD   HDD  \n",
       "0  Intel Iris Xe Graphics       Linux  2.064834  35844.099371  512GB      0  \n",
       "1  Intel Iris Xe Graphics       No OS  4.060656  37019.059051  128GB      0  \n",
       "2  Intel Iris Xe Graphics       Linux  2.901689  33329.360341       0  1TB   \n",
       "3  Intel Iris Xe Graphics  Windows 10  2.914843  68631.102486  512GB      0  \n",
       "4     AMD Radeon RX 5600M  Windows 10  4.341995  33842.479566  512GB      0  "
      ]
     },
     "execution_count": 33,
     "metadata": {},
     "output_type": "execute_result"
    }
   ],
   "source": [
    "df.head()"
   ]
  },
  {
   "cell_type": "code",
   "execution_count": 34,
   "id": "f7b1487f-1f48-4e3d-81cd-87f1b58987c0",
   "metadata": {},
   "outputs": [
    {
     "data": {
      "text/plain": [
       "SSD\n",
       "0         310\n",
       "256GB     196\n",
       "512GB     164\n",
       "1TB       116\n",
       "2TB       112\n",
       "128GB     102\n",
       "Name: count, dtype: int64"
      ]
     },
     "execution_count": 34,
     "metadata": {},
     "output_type": "execute_result"
    }
   ],
   "source": [
    "# Here we can see there are GB and TB both in SSD therefore we will convert TB into GB by Tb value*1024(1tb = 1024gb)\n",
    "df[\"SSD\"].value_counts()"
   ]
  },
  {
   "cell_type": "code",
   "execution_count": 35,
   "id": "da4696d5-445b-4d6b-b476-b73b69b5f89a",
   "metadata": {},
   "outputs": [],
   "source": [
    "# to remove GB and TB from SSD column\n",
    "# and to keep in a single scale TB values are multiplied by 1024\n",
    "ssd = []\n",
    "for i in df[\"SSD\"]:\n",
    "    if \"GB\" in i:\n",
    "        ssd.append(int(i.replace(\"GB\",\"\")))\n",
    "    elif \"TB\" in i:\n",
    "        ssd.append(int(i.replace(\"TB\",\"\"))*1024)\n",
    "    else:\n",
    "        ssd.append(int(i))"
   ]
  },
  {
   "cell_type": "code",
   "execution_count": 36,
   "id": "75e433bc-f50d-4884-a1bc-9b3408b20af8",
   "metadata": {},
   "outputs": [
    {
     "data": {
      "text/plain": [
       "0      False\n",
       "1      False\n",
       "2      False\n",
       "3      False\n",
       "4      False\n",
       "       ...  \n",
       "995    False\n",
       "996    False\n",
       "997    False\n",
       "998    False\n",
       "999    False\n",
       "Name: SSD, Length: 1000, dtype: bool"
      ]
     },
     "execution_count": 36,
     "metadata": {},
     "output_type": "execute_result"
    }
   ],
   "source": [
    "# updating SSD column value from list named ssd.\n",
    "df[\"SSD\"] == ssd"
   ]
  },
  {
   "cell_type": "code",
   "execution_count": 37,
   "id": "bc59cff3-f15d-4df1-a434-621be471c3f2",
   "metadata": {},
   "outputs": [
    {
     "data": {
      "text/plain": [
       "dtype('O')"
      ]
     },
     "execution_count": 37,
     "metadata": {},
     "output_type": "execute_result"
    }
   ],
   "source": [
    "df[\"SSD\"].dtype"
   ]
  },
  {
   "cell_type": "code",
   "execution_count": 38,
   "id": "bccdfcea-bd42-4c82-b25e-51568c81acc0",
   "metadata": {},
   "outputs": [
    {
     "data": {
      "text/plain": [
       "HDD\n",
       "0       690\n",
       "1TB     155\n",
       "4TB      60\n",
       "2TB      50\n",
       "6TB      45\n",
       "Name: count, dtype: int64"
      ]
     },
     "execution_count": 38,
     "metadata": {},
     "output_type": "execute_result"
    }
   ],
   "source": [
    "df[\"HDD\"].value_counts()"
   ]
  },
  {
   "cell_type": "code",
   "execution_count": 39,
   "id": "278b1cc4-0b50-4689-803a-ffc59e6cfe25",
   "metadata": {},
   "outputs": [],
   "source": [
    "# as we can see that the values in HDD columns are only in TB,\n",
    "# so we will replace TB with \" \" blank space to remove TB text using  \".str.replace()\".\n",
    "df[\"HDD\"] = df[\"HDD\"].str.replace(\"TB\",\"\")"
   ]
  },
  {
   "cell_type": "code",
   "execution_count": 40,
   "id": "e886a076-fc93-4d00-94a3-f7f714713f2e",
   "metadata": {},
   "outputs": [],
   "source": [
    "# Now converting the data in HDD from TB to GB by multiplying by * 1024 and changing datatype into int64\n",
    "df[\"HDD\"] = df[\"HDD\"].astype(\"int64\")*1024"
   ]
  },
  {
   "cell_type": "code",
   "execution_count": 41,
   "id": "6afc7e9e-6468-4e21-93f0-df71a4a17618",
   "metadata": {},
   "outputs": [
    {
     "data": {
      "text/html": [
       "<div>\n",
       "<style scoped>\n",
       "    .dataframe tbody tr th:only-of-type {\n",
       "        vertical-align: middle;\n",
       "    }\n",
       "\n",
       "    .dataframe tbody tr th {\n",
       "        vertical-align: top;\n",
       "    }\n",
       "\n",
       "    .dataframe thead th {\n",
       "        text-align: right;\n",
       "    }\n",
       "</style>\n",
       "<table border=\"1\" class=\"dataframe\">\n",
       "  <thead>\n",
       "    <tr style=\"text-align: right;\">\n",
       "      <th></th>\n",
       "      <th>CompanyName</th>\n",
       "      <th>TypeOfLaptop</th>\n",
       "      <th>Inches</th>\n",
       "      <th>ScreenResolution</th>\n",
       "      <th>Cpu</th>\n",
       "      <th>Ram</th>\n",
       "      <th>Gpu</th>\n",
       "      <th>OpSys</th>\n",
       "      <th>Weight</th>\n",
       "      <th>Price</th>\n",
       "      <th>SSD</th>\n",
       "      <th>HDD</th>\n",
       "    </tr>\n",
       "  </thead>\n",
       "  <tbody>\n",
       "    <tr>\n",
       "      <th>0</th>\n",
       "      <td>MSI</td>\n",
       "      <td>Business</td>\n",
       "      <td>17</td>\n",
       "      <td>Retina Display</td>\n",
       "      <td>Intel i7</td>\n",
       "      <td>12</td>\n",
       "      <td>Intel Iris Xe Graphics</td>\n",
       "      <td>Linux</td>\n",
       "      <td>2.064834</td>\n",
       "      <td>35844.099371</td>\n",
       "      <td>512GB</td>\n",
       "      <td>0</td>\n",
       "    </tr>\n",
       "    <tr>\n",
       "      <th>1</th>\n",
       "      <td>Samsung</td>\n",
       "      <td>2_in_1</td>\n",
       "      <td>16</td>\n",
       "      <td>Full HD</td>\n",
       "      <td>Intel i5</td>\n",
       "      <td>12</td>\n",
       "      <td>Intel Iris Xe Graphics</td>\n",
       "      <td>No OS</td>\n",
       "      <td>4.060656</td>\n",
       "      <td>37019.059051</td>\n",
       "      <td>128GB</td>\n",
       "      <td>0</td>\n",
       "    </tr>\n",
       "    <tr>\n",
       "      <th>2</th>\n",
       "      <td>hp</td>\n",
       "      <td>WorkStation</td>\n",
       "      <td>17</td>\n",
       "      <td>Full HD</td>\n",
       "      <td>Intel Xeon</td>\n",
       "      <td>8</td>\n",
       "      <td>Intel Iris Xe Graphics</td>\n",
       "      <td>Linux</td>\n",
       "      <td>2.901689</td>\n",
       "      <td>33329.360341</td>\n",
       "      <td>0</td>\n",
       "      <td>1024</td>\n",
       "    </tr>\n",
       "    <tr>\n",
       "      <th>3</th>\n",
       "      <td>MSI</td>\n",
       "      <td>2_in_1</td>\n",
       "      <td>11</td>\n",
       "      <td>2K</td>\n",
       "      <td>Intel i7</td>\n",
       "      <td>16</td>\n",
       "      <td>Intel Iris Xe Graphics</td>\n",
       "      <td>Windows 10</td>\n",
       "      <td>2.914843</td>\n",
       "      <td>68631.102486</td>\n",
       "      <td>512GB</td>\n",
       "      <td>0</td>\n",
       "    </tr>\n",
       "    <tr>\n",
       "      <th>4</th>\n",
       "      <td>Microsoft</td>\n",
       "      <td>Gaming</td>\n",
       "      <td>12</td>\n",
       "      <td>Full HD</td>\n",
       "      <td>Intel i5</td>\n",
       "      <td>8</td>\n",
       "      <td>AMD Radeon RX 5600M</td>\n",
       "      <td>Windows 10</td>\n",
       "      <td>4.341995</td>\n",
       "      <td>33842.479566</td>\n",
       "      <td>512GB</td>\n",
       "      <td>0</td>\n",
       "    </tr>\n",
       "  </tbody>\n",
       "</table>\n",
       "</div>"
      ],
      "text/plain": [
       "  CompanyName TypeOfLaptop  Inches ScreenResolution         Cpu  Ram  \\\n",
       "0         MSI     Business      17   Retina Display    Intel i7   12   \n",
       "1     Samsung       2_in_1      16          Full HD    Intel i5   12   \n",
       "2          hp  WorkStation      17          Full HD  Intel Xeon    8   \n",
       "3         MSI       2_in_1      11               2K    Intel i7   16   \n",
       "4   Microsoft       Gaming      12          Full HD    Intel i5    8   \n",
       "\n",
       "                      Gpu       OpSys    Weight         Price     SSD   HDD  \n",
       "0  Intel Iris Xe Graphics       Linux  2.064834  35844.099371  512GB      0  \n",
       "1  Intel Iris Xe Graphics       No OS  4.060656  37019.059051  128GB      0  \n",
       "2  Intel Iris Xe Graphics       Linux  2.901689  33329.360341       0  1024  \n",
       "3  Intel Iris Xe Graphics  Windows 10  2.914843  68631.102486  512GB      0  \n",
       "4     AMD Radeon RX 5600M  Windows 10  4.341995  33842.479566  512GB      0  "
      ]
     },
     "execution_count": 41,
     "metadata": {},
     "output_type": "execute_result"
    }
   ],
   "source": [
    "df.head()"
   ]
  },
  {
   "cell_type": "markdown",
   "id": "4130a6f8-0d8f-4ca1-b524-3b5fa5279b1f",
   "metadata": {},
   "source": [
    "### Step-14: "
   ]
  },
  {
   "cell_type": "code",
   "execution_count": 42,
   "id": "9650e479-44d4-4b88-8337-caaef4393c7d",
   "metadata": {},
   "outputs": [
    {
     "data": {
      "text/plain": [
       "Gpu\n",
       "NVIDIA GeForce GTX 1650    348\n",
       "AMD Radeon RX 5600M        339\n",
       "Intel Iris Xe Graphics     313\n",
       "Name: count, dtype: int64"
      ]
     },
     "execution_count": 42,
     "metadata": {},
     "output_type": "execute_result"
    }
   ],
   "source": [
    "# Eigth Column -> Data in Gpu column\n",
    "df[\"Gpu\"].value_counts()"
   ]
  },
  {
   "cell_type": "markdown",
   "id": "636269f7-7a7a-4c35-8f33-821c6f38fe15",
   "metadata": {},
   "source": [
    "* As we can see that the Gpu has too long names hence we will change this by lambda function.\n",
    "* As we can see that there are only few names in the gpu that's why we will use lambda function and apply condition for names like for first name we take only 6 alphabets from starting if it starts from N and so on for other names. "
   ]
  },
  {
   "cell_type": "code",
   "execution_count": 43,
   "id": "c6346a3c-5231-4db6-b82b-2f7b364dd2e9",
   "metadata": {},
   "outputs": [],
   "source": [
    "gpu = list(map(lambda x: x[:6] if x[0] == \"N\" else (x[:3] if x[0]==\"A\" else x[:5]), df[\"Gpu\"]))"
   ]
  },
  {
   "cell_type": "code",
   "execution_count": 44,
   "id": "35ec942a-7f94-45d2-8fd9-edb4688fcb99",
   "metadata": {},
   "outputs": [],
   "source": [
    "# Editing the column Gpu by giving it value of gpu variable\n",
    "df[\"Gpu\"]= gpu"
   ]
  },
  {
   "cell_type": "code",
   "execution_count": 45,
   "id": "cd54a694-d4c1-447a-b9d8-917551830c54",
   "metadata": {},
   "outputs": [
    {
     "data": {
      "text/plain": [
       "Gpu\n",
       "NVIDIA    348\n",
       "AMD       339\n",
       "Intel     313\n",
       "Name: count, dtype: int64"
      ]
     },
     "execution_count": 45,
     "metadata": {},
     "output_type": "execute_result"
    }
   ],
   "source": [
    "df[\"Gpu\"].value_counts()"
   ]
  },
  {
   "cell_type": "code",
   "execution_count": 46,
   "id": "d92e8140-1605-457c-9c49-c35139ffb642",
   "metadata": {},
   "outputs": [
    {
     "data": {
      "text/html": [
       "<div>\n",
       "<style scoped>\n",
       "    .dataframe tbody tr th:only-of-type {\n",
       "        vertical-align: middle;\n",
       "    }\n",
       "\n",
       "    .dataframe tbody tr th {\n",
       "        vertical-align: top;\n",
       "    }\n",
       "\n",
       "    .dataframe thead th {\n",
       "        text-align: right;\n",
       "    }\n",
       "</style>\n",
       "<table border=\"1\" class=\"dataframe\">\n",
       "  <thead>\n",
       "    <tr style=\"text-align: right;\">\n",
       "      <th></th>\n",
       "      <th>CompanyName</th>\n",
       "      <th>TypeOfLaptop</th>\n",
       "      <th>Inches</th>\n",
       "      <th>ScreenResolution</th>\n",
       "      <th>Cpu</th>\n",
       "      <th>Ram</th>\n",
       "      <th>Gpu</th>\n",
       "      <th>OpSys</th>\n",
       "      <th>Weight</th>\n",
       "      <th>Price</th>\n",
       "      <th>SSD</th>\n",
       "      <th>HDD</th>\n",
       "    </tr>\n",
       "  </thead>\n",
       "  <tbody>\n",
       "    <tr>\n",
       "      <th>0</th>\n",
       "      <td>MSI</td>\n",
       "      <td>Business</td>\n",
       "      <td>17</td>\n",
       "      <td>Retina Display</td>\n",
       "      <td>Intel i7</td>\n",
       "      <td>12</td>\n",
       "      <td>Intel</td>\n",
       "      <td>Linux</td>\n",
       "      <td>2.064834</td>\n",
       "      <td>35844.099371</td>\n",
       "      <td>512GB</td>\n",
       "      <td>0</td>\n",
       "    </tr>\n",
       "    <tr>\n",
       "      <th>1</th>\n",
       "      <td>Samsung</td>\n",
       "      <td>2_in_1</td>\n",
       "      <td>16</td>\n",
       "      <td>Full HD</td>\n",
       "      <td>Intel i5</td>\n",
       "      <td>12</td>\n",
       "      <td>Intel</td>\n",
       "      <td>No OS</td>\n",
       "      <td>4.060656</td>\n",
       "      <td>37019.059051</td>\n",
       "      <td>128GB</td>\n",
       "      <td>0</td>\n",
       "    </tr>\n",
       "    <tr>\n",
       "      <th>2</th>\n",
       "      <td>hp</td>\n",
       "      <td>WorkStation</td>\n",
       "      <td>17</td>\n",
       "      <td>Full HD</td>\n",
       "      <td>Intel Xeon</td>\n",
       "      <td>8</td>\n",
       "      <td>Intel</td>\n",
       "      <td>Linux</td>\n",
       "      <td>2.901689</td>\n",
       "      <td>33329.360341</td>\n",
       "      <td>0</td>\n",
       "      <td>1024</td>\n",
       "    </tr>\n",
       "    <tr>\n",
       "      <th>3</th>\n",
       "      <td>MSI</td>\n",
       "      <td>2_in_1</td>\n",
       "      <td>11</td>\n",
       "      <td>2K</td>\n",
       "      <td>Intel i7</td>\n",
       "      <td>16</td>\n",
       "      <td>Intel</td>\n",
       "      <td>Windows 10</td>\n",
       "      <td>2.914843</td>\n",
       "      <td>68631.102486</td>\n",
       "      <td>512GB</td>\n",
       "      <td>0</td>\n",
       "    </tr>\n",
       "    <tr>\n",
       "      <th>4</th>\n",
       "      <td>Microsoft</td>\n",
       "      <td>Gaming</td>\n",
       "      <td>12</td>\n",
       "      <td>Full HD</td>\n",
       "      <td>Intel i5</td>\n",
       "      <td>8</td>\n",
       "      <td>AMD</td>\n",
       "      <td>Windows 10</td>\n",
       "      <td>4.341995</td>\n",
       "      <td>33842.479566</td>\n",
       "      <td>512GB</td>\n",
       "      <td>0</td>\n",
       "    </tr>\n",
       "  </tbody>\n",
       "</table>\n",
       "</div>"
      ],
      "text/plain": [
       "  CompanyName TypeOfLaptop  Inches ScreenResolution         Cpu  Ram    Gpu  \\\n",
       "0         MSI     Business      17   Retina Display    Intel i7   12  Intel   \n",
       "1     Samsung       2_in_1      16          Full HD    Intel i5   12  Intel   \n",
       "2          hp  WorkStation      17          Full HD  Intel Xeon    8  Intel   \n",
       "3         MSI       2_in_1      11               2K    Intel i7   16  Intel   \n",
       "4   Microsoft       Gaming      12          Full HD    Intel i5    8    AMD   \n",
       "\n",
       "        OpSys    Weight         Price     SSD   HDD  \n",
       "0       Linux  2.064834  35844.099371  512GB      0  \n",
       "1       No OS  4.060656  37019.059051  128GB      0  \n",
       "2       Linux  2.901689  33329.360341       0  1024  \n",
       "3  Windows 10  2.914843  68631.102486  512GB      0  \n",
       "4  Windows 10  4.341995  33842.479566  512GB      0  "
      ]
     },
     "execution_count": 46,
     "metadata": {},
     "output_type": "execute_result"
    }
   ],
   "source": [
    "df.head()"
   ]
  },
  {
   "cell_type": "markdown",
   "id": "dc12e36d-e103-4171-a90d-748df9dd2c70",
   "metadata": {},
   "source": [
    "### Step-15: "
   ]
  },
  {
   "cell_type": "code",
   "execution_count": 47,
   "id": "f2ba9513-2b2d-4ca2-8647-81acdb1ef88d",
   "metadata": {},
   "outputs": [
    {
     "data": {
      "text/plain": [
       "OpSys\n",
       "No OS         224\n",
       "macOS         219\n",
       "Windows 10    194\n",
       "Linux         187\n",
       "Windows 11    176\n",
       "Name: count, dtype: int64"
      ]
     },
     "execution_count": 47,
     "metadata": {},
     "output_type": "execute_result"
    }
   ],
   "source": [
    "# Ninth Column -> Data in OpSys column\n",
    "df[\"OpSys\"].value_counts()"
   ]
  },
  {
   "cell_type": "markdown",
   "id": "641c1a3e-55bc-46d0-abdb-606e96f69b9c",
   "metadata": {},
   "source": [
    "* Changing the long names into short using \".str.replace()\"."
   ]
  },
  {
   "cell_type": "code",
   "execution_count": 48,
   "id": "ffa3614a-d307-4079-90d5-fa9cd2322168",
   "metadata": {},
   "outputs": [],
   "source": [
    "df[\"OpSys\"] = df[\"OpSys\"].str.replace(\"No \",\"D\")\n",
    "df[\"OpSys\"] = df[\"OpSys\"].str.replace(\"Windows \",\"Win\")"
   ]
  },
  {
   "cell_type": "code",
   "execution_count": 49,
   "id": "86f62411-8a03-48be-a08a-eb62de27a4a2",
   "metadata": {},
   "outputs": [
    {
     "data": {
      "text/plain": [
       "array(['Linux', 'DOS', 'Win10', 'macOS', 'Win11'], dtype=object)"
      ]
     },
     "execution_count": 49,
     "metadata": {},
     "output_type": "execute_result"
    }
   ],
   "source": [
    "# To view the unique values of Opsys we applied \".unique()\" method.\n",
    "df[\"OpSys\"].unique()"
   ]
  },
  {
   "cell_type": "code",
   "execution_count": 50,
   "id": "7a2721d8-7226-4fbf-a40b-a0007705934b",
   "metadata": {},
   "outputs": [
    {
     "data": {
      "text/html": [
       "<div>\n",
       "<style scoped>\n",
       "    .dataframe tbody tr th:only-of-type {\n",
       "        vertical-align: middle;\n",
       "    }\n",
       "\n",
       "    .dataframe tbody tr th {\n",
       "        vertical-align: top;\n",
       "    }\n",
       "\n",
       "    .dataframe thead th {\n",
       "        text-align: right;\n",
       "    }\n",
       "</style>\n",
       "<table border=\"1\" class=\"dataframe\">\n",
       "  <thead>\n",
       "    <tr style=\"text-align: right;\">\n",
       "      <th></th>\n",
       "      <th>CompanyName</th>\n",
       "      <th>TypeOfLaptop</th>\n",
       "      <th>Inches</th>\n",
       "      <th>ScreenResolution</th>\n",
       "      <th>Cpu</th>\n",
       "      <th>Ram</th>\n",
       "      <th>Gpu</th>\n",
       "      <th>OpSys</th>\n",
       "      <th>Weight</th>\n",
       "      <th>Price</th>\n",
       "      <th>SSD</th>\n",
       "      <th>HDD</th>\n",
       "    </tr>\n",
       "  </thead>\n",
       "  <tbody>\n",
       "    <tr>\n",
       "      <th>0</th>\n",
       "      <td>MSI</td>\n",
       "      <td>Business</td>\n",
       "      <td>17</td>\n",
       "      <td>Retina Display</td>\n",
       "      <td>Intel i7</td>\n",
       "      <td>12</td>\n",
       "      <td>Intel</td>\n",
       "      <td>Linux</td>\n",
       "      <td>2.064834</td>\n",
       "      <td>35844.099371</td>\n",
       "      <td>512GB</td>\n",
       "      <td>0</td>\n",
       "    </tr>\n",
       "    <tr>\n",
       "      <th>1</th>\n",
       "      <td>Samsung</td>\n",
       "      <td>2_in_1</td>\n",
       "      <td>16</td>\n",
       "      <td>Full HD</td>\n",
       "      <td>Intel i5</td>\n",
       "      <td>12</td>\n",
       "      <td>Intel</td>\n",
       "      <td>DOS</td>\n",
       "      <td>4.060656</td>\n",
       "      <td>37019.059051</td>\n",
       "      <td>128GB</td>\n",
       "      <td>0</td>\n",
       "    </tr>\n",
       "    <tr>\n",
       "      <th>2</th>\n",
       "      <td>hp</td>\n",
       "      <td>WorkStation</td>\n",
       "      <td>17</td>\n",
       "      <td>Full HD</td>\n",
       "      <td>Intel Xeon</td>\n",
       "      <td>8</td>\n",
       "      <td>Intel</td>\n",
       "      <td>Linux</td>\n",
       "      <td>2.901689</td>\n",
       "      <td>33329.360341</td>\n",
       "      <td>0</td>\n",
       "      <td>1024</td>\n",
       "    </tr>\n",
       "    <tr>\n",
       "      <th>3</th>\n",
       "      <td>MSI</td>\n",
       "      <td>2_in_1</td>\n",
       "      <td>11</td>\n",
       "      <td>2K</td>\n",
       "      <td>Intel i7</td>\n",
       "      <td>16</td>\n",
       "      <td>Intel</td>\n",
       "      <td>Win10</td>\n",
       "      <td>2.914843</td>\n",
       "      <td>68631.102486</td>\n",
       "      <td>512GB</td>\n",
       "      <td>0</td>\n",
       "    </tr>\n",
       "    <tr>\n",
       "      <th>4</th>\n",
       "      <td>Microsoft</td>\n",
       "      <td>Gaming</td>\n",
       "      <td>12</td>\n",
       "      <td>Full HD</td>\n",
       "      <td>Intel i5</td>\n",
       "      <td>8</td>\n",
       "      <td>AMD</td>\n",
       "      <td>Win10</td>\n",
       "      <td>4.341995</td>\n",
       "      <td>33842.479566</td>\n",
       "      <td>512GB</td>\n",
       "      <td>0</td>\n",
       "    </tr>\n",
       "  </tbody>\n",
       "</table>\n",
       "</div>"
      ],
      "text/plain": [
       "  CompanyName TypeOfLaptop  Inches ScreenResolution         Cpu  Ram    Gpu  \\\n",
       "0         MSI     Business      17   Retina Display    Intel i7   12  Intel   \n",
       "1     Samsung       2_in_1      16          Full HD    Intel i5   12  Intel   \n",
       "2          hp  WorkStation      17          Full HD  Intel Xeon    8  Intel   \n",
       "3         MSI       2_in_1      11               2K    Intel i7   16  Intel   \n",
       "4   Microsoft       Gaming      12          Full HD    Intel i5    8    AMD   \n",
       "\n",
       "   OpSys    Weight         Price     SSD   HDD  \n",
       "0  Linux  2.064834  35844.099371  512GB      0  \n",
       "1    DOS  4.060656  37019.059051  128GB      0  \n",
       "2  Linux  2.901689  33329.360341       0  1024  \n",
       "3  Win10  2.914843  68631.102486  512GB      0  \n",
       "4  Win10  4.341995  33842.479566  512GB      0  "
      ]
     },
     "execution_count": 50,
     "metadata": {},
     "output_type": "execute_result"
    }
   ],
   "source": [
    "df.head()"
   ]
  },
  {
   "cell_type": "markdown",
   "id": "fbfeba62-25d1-49c1-876c-982806e5b4e6",
   "metadata": {},
   "source": [
    "# Data Visualization / Analysis"
   ]
  },
  {
   "cell_type": "code",
   "execution_count": 51,
   "id": "33579544-00c8-48c6-9c8e-858de443882f",
   "metadata": {},
   "outputs": [
    {
     "data": {
      "image/png": "[encoded data removed]",
      "text/plain": [
       "<Figure size 640x480 with 1 Axes>"
      ]
     },
     "metadata": {},
     "output_type": "display_data"
    }
   ],
   "source": [
    "## Plotting countplot for column company name, to count the observation within different categories.\n",
    "sns.countplot(x = df[\"CompanyName\"])\n",
    "plt.show() "
   ]
  },
  {
   "cell_type": "code",
   "execution_count": null,
   "id": "3ce4bc13-e0e5-47ef-b7cc-b0de96d63b65",
   "metadata": {},
   "outputs": [],
   "source": [
    "### To analyse the relation between two columns we use \"crosstab\".\n",
    "## To get the number of laptops according to type of laptops as per comapany.\n",
    "pd.crosstab(df[\"CompanyName\"], df[\"TypeOfLaptop\"])"
   ]
  },
  {
   "cell_type": "code",
   "execution_count": 53,
   "id": "e8957449-d005-4527-8b04-c8536c6a536f",
   "metadata": {},
   "outputs": [
    {
     "data": {
      "image/png": "[encoded data removed]",
      "text/plain": [
       "<Figure size 640x480 with 1 Axes>"
      ]
     },
     "metadata": {},
     "output_type": "display_data"
    }
   ],
   "source": [
    "## Plotting countplot for column Inches, to count the observation within different laptop inches.\n",
    "sns.countplot(x = df[\"Inches\"])\n",
    "plt.show() "
   ]
  },
  {
   "cell_type": "code",
   "execution_count": 54,
   "id": "b6a75f72-460e-4185-9429-c00ccf070188",
   "metadata": {},
   "outputs": [
    {
     "data": {
      "text/plain": [
       "Price\n",
       "35844.099371    1\n",
       "31817.104796    1\n",
       "41862.385994    1\n",
       "32910.212361    1\n",
       "37352.222969    1\n",
       "               ..\n",
       "55193.683114    1\n",
       "80674.069261    1\n",
       "56514.471727    1\n",
       "61624.305110    1\n",
       "63873.992922    1\n",
       "Name: count, Length: 1000, dtype: int64"
      ]
     },
     "execution_count": 54,
     "metadata": {},
     "output_type": "execute_result"
    }
   ],
   "source": [
    "## To get the unique prices\n",
    "df[\"Price\"].value_counts()"
   ]
  },
  {
   "cell_type": "code",
   "execution_count": 55,
   "id": "51902926-6b67-4093-957b-58bb69b340b1",
   "metadata": {},
   "outputs": [],
   "source": [
    "## To get the price of laptop a/c to type used group by function\n",
    "rev_device = df.groupby(\"TypeOfLaptop\")[\"Price\"].mean()"
   ]
  },
  {
   "cell_type": "code",
   "execution_count": 56,
   "id": "29cf3b5f-0e66-42fe-9bfc-fd8a52e86997",
   "metadata": {},
   "outputs": [
    {
     "data": {
      "image/png": "[encoded data removed]",
      "text/plain": [
       "<Figure size 640x480 with 1 Axes>"
      ]
     },
     "metadata": {},
     "output_type": "display_data"
    }
   ],
   "source": [
    "## Compared price of laptop a/c to type\n",
    "plt.title(\"Price a/c to type of Laptop\")\n",
    "sns.barplot(x=rev_device.index, y = rev_device.values, hue = rev_device.index)\n",
    "plt.ylabel(\"Price\")\n",
    "plt.show()"
   ]
  },
  {
   "cell_type": "code",
   "execution_count": 57,
   "id": "4a2fcbb6-26dd-418b-bd37-9f6d247e7e65",
   "metadata": {},
   "outputs": [
    {
     "data": {
      "text/plain": [
       "Inches\n",
       "17    157\n",
       "11    151\n",
       "15    145\n",
       "13    145\n",
       "12    140\n",
       "14    133\n",
       "16    129\n",
       "Name: count, dtype: int64"
      ]
     },
     "execution_count": 57,
     "metadata": {},
     "output_type": "execute_result"
    }
   ],
   "source": [
    "## To get count unique Inches of laptop\n",
    "df[\"Inches\"].value_counts()"
   ]
  },
  {
   "cell_type": "code",
   "execution_count": 68,
   "id": "7401359a-612c-4dd4-8b14-ac7e98d84d8b",
   "metadata": {},
   "outputs": [
    {
     "data": {
      "image/png": "[encoded data removed]",
      "text/plain": [
       "<Figure size 640x480 with 1 Axes>"
      ]
     },
     "metadata": {},
     "output_type": "display_data"
    }
   ],
   "source": [
    "## Plotting bar plot for Inches and Price of Laptop\n",
    "plt.title(\"Price a/c to Inches of laptop\")\n",
    "sns.barplot(x= df[\"Inches\"], y = df[\"Price\"])\n",
    "plt.show()"
   ]
  },
  {
   "cell_type": "code",
   "execution_count": 59,
   "id": "acc570ae-ab01-4a2b-909f-cb1287628337",
   "metadata": {},
   "outputs": [
    {
     "data": {
      "text/html": [
       "<div>\n",
       "<style scoped>\n",
       "    .dataframe tbody tr th:only-of-type {\n",
       "        vertical-align: middle;\n",
       "    }\n",
       "\n",
       "    .dataframe tbody tr th {\n",
       "        vertical-align: top;\n",
       "    }\n",
       "\n",
       "    .dataframe thead th {\n",
       "        text-align: right;\n",
       "    }\n",
       "</style>\n",
       "<table border=\"1\" class=\"dataframe\">\n",
       "  <thead>\n",
       "    <tr style=\"text-align: right;\">\n",
       "      <th>OpSys</th>\n",
       "      <th>DOS</th>\n",
       "      <th>Linux</th>\n",
       "      <th>Win10</th>\n",
       "      <th>Win11</th>\n",
       "      <th>macOS</th>\n",
       "    </tr>\n",
       "    <tr>\n",
       "      <th>TypeOfLaptop</th>\n",
       "      <th></th>\n",
       "      <th></th>\n",
       "      <th></th>\n",
       "      <th></th>\n",
       "      <th></th>\n",
       "    </tr>\n",
       "  </thead>\n",
       "  <tbody>\n",
       "    <tr>\n",
       "      <th>2_in_1</th>\n",
       "      <td>39</td>\n",
       "      <td>21</td>\n",
       "      <td>38</td>\n",
       "      <td>28</td>\n",
       "      <td>36</td>\n",
       "    </tr>\n",
       "    <tr>\n",
       "      <th>Business</th>\n",
       "      <td>38</td>\n",
       "      <td>33</td>\n",
       "      <td>39</td>\n",
       "      <td>36</td>\n",
       "      <td>30</td>\n",
       "    </tr>\n",
       "    <tr>\n",
       "      <th>Gaming</th>\n",
       "      <td>30</td>\n",
       "      <td>37</td>\n",
       "      <td>36</td>\n",
       "      <td>28</td>\n",
       "      <td>37</td>\n",
       "    </tr>\n",
       "    <tr>\n",
       "      <th>NoteBook</th>\n",
       "      <td>35</td>\n",
       "      <td>29</td>\n",
       "      <td>27</td>\n",
       "      <td>29</td>\n",
       "      <td>33</td>\n",
       "    </tr>\n",
       "    <tr>\n",
       "      <th>UltraBook</th>\n",
       "      <td>37</td>\n",
       "      <td>28</td>\n",
       "      <td>29</td>\n",
       "      <td>32</td>\n",
       "      <td>40</td>\n",
       "    </tr>\n",
       "    <tr>\n",
       "      <th>WorkStation</th>\n",
       "      <td>45</td>\n",
       "      <td>39</td>\n",
       "      <td>25</td>\n",
       "      <td>23</td>\n",
       "      <td>43</td>\n",
       "    </tr>\n",
       "  </tbody>\n",
       "</table>\n",
       "</div>"
      ],
      "text/plain": [
       "OpSys         DOS  Linux  Win10  Win11  macOS\n",
       "TypeOfLaptop                                 \n",
       "2_in_1         39     21     38     28     36\n",
       "Business       38     33     39     36     30\n",
       "Gaming         30     37     36     28     37\n",
       "NoteBook       35     29     27     29     33\n",
       "UltraBook      37     28     29     32     40\n",
       "WorkStation    45     39     25     23     43"
      ]
     },
     "execution_count": 59,
     "metadata": {},
     "output_type": "execute_result"
    }
   ],
   "source": [
    "## To get the number of laptops according to type of laptops as per OpsSys.\n",
    "pd.crosstab(df[\"TypeOfLaptop\"], df[\"OpSys\"])"
   ]
  },
  {
   "cell_type": "code",
   "execution_count": 60,
   "id": "51fef770-fe10-4eee-998a-98d025d69075",
   "metadata": {},
   "outputs": [
    {
     "data": {
      "text/html": [
       "<div>\n",
       "<style scoped>\n",
       "    .dataframe tbody tr th:only-of-type {\n",
       "        vertical-align: middle;\n",
       "    }\n",
       "\n",
       "    .dataframe tbody tr th {\n",
       "        vertical-align: top;\n",
       "    }\n",
       "\n",
       "    .dataframe thead th {\n",
       "        text-align: right;\n",
       "    }\n",
       "</style>\n",
       "<table border=\"1\" class=\"dataframe\">\n",
       "  <thead>\n",
       "    <tr style=\"text-align: right;\">\n",
       "      <th>Inches</th>\n",
       "      <th>11</th>\n",
       "      <th>12</th>\n",
       "      <th>13</th>\n",
       "      <th>14</th>\n",
       "      <th>15</th>\n",
       "      <th>16</th>\n",
       "      <th>17</th>\n",
       "    </tr>\n",
       "    <tr>\n",
       "      <th>TypeOfLaptop</th>\n",
       "      <th></th>\n",
       "      <th></th>\n",
       "      <th></th>\n",
       "      <th></th>\n",
       "      <th></th>\n",
       "      <th></th>\n",
       "      <th></th>\n",
       "    </tr>\n",
       "  </thead>\n",
       "  <tbody>\n",
       "    <tr>\n",
       "      <th>2_in_1</th>\n",
       "      <td>20</td>\n",
       "      <td>27</td>\n",
       "      <td>27</td>\n",
       "      <td>18</td>\n",
       "      <td>27</td>\n",
       "      <td>24</td>\n",
       "      <td>19</td>\n",
       "    </tr>\n",
       "    <tr>\n",
       "      <th>Business</th>\n",
       "      <td>29</td>\n",
       "      <td>21</td>\n",
       "      <td>22</td>\n",
       "      <td>23</td>\n",
       "      <td>23</td>\n",
       "      <td>29</td>\n",
       "      <td>29</td>\n",
       "    </tr>\n",
       "    <tr>\n",
       "      <th>Gaming</th>\n",
       "      <td>29</td>\n",
       "      <td>16</td>\n",
       "      <td>33</td>\n",
       "      <td>25</td>\n",
       "      <td>22</td>\n",
       "      <td>22</td>\n",
       "      <td>21</td>\n",
       "    </tr>\n",
       "    <tr>\n",
       "      <th>NoteBook</th>\n",
       "      <td>26</td>\n",
       "      <td>28</td>\n",
       "      <td>19</td>\n",
       "      <td>16</td>\n",
       "      <td>23</td>\n",
       "      <td>14</td>\n",
       "      <td>27</td>\n",
       "    </tr>\n",
       "    <tr>\n",
       "      <th>UltraBook</th>\n",
       "      <td>17</td>\n",
       "      <td>21</td>\n",
       "      <td>22</td>\n",
       "      <td>25</td>\n",
       "      <td>29</td>\n",
       "      <td>22</td>\n",
       "      <td>30</td>\n",
       "    </tr>\n",
       "    <tr>\n",
       "      <th>WorkStation</th>\n",
       "      <td>30</td>\n",
       "      <td>27</td>\n",
       "      <td>22</td>\n",
       "      <td>26</td>\n",
       "      <td>21</td>\n",
       "      <td>18</td>\n",
       "      <td>31</td>\n",
       "    </tr>\n",
       "  </tbody>\n",
       "</table>\n",
       "</div>"
      ],
      "text/plain": [
       "Inches        11  12  13  14  15  16  17\n",
       "TypeOfLaptop                            \n",
       "2_in_1        20  27  27  18  27  24  19\n",
       "Business      29  21  22  23  23  29  29\n",
       "Gaming        29  16  33  25  22  22  21\n",
       "NoteBook      26  28  19  16  23  14  27\n",
       "UltraBook     17  21  22  25  29  22  30\n",
       "WorkStation   30  27  22  26  21  18  31"
      ]
     },
     "execution_count": 60,
     "metadata": {},
     "output_type": "execute_result"
    }
   ],
   "source": [
    "## To get the number of laptops according to type of laptops as per Inches.\n",
    "pd.crosstab(df[\"TypeOfLaptop\"], df[\"Inches\"])"
   ]
  },
  {
   "cell_type": "code",
   "execution_count": 61,
   "id": "2bb2d074-4941-4ce6-9317-f3d673871292",
   "metadata": {},
   "outputs": [
    {
     "data": {
      "text/plain": [
       "ScreenResolution\n",
       "2K                181\n",
       "4K                179\n",
       "TouchScreen       176\n",
       "Full HD           162\n",
       "HD 1920x1080      160\n",
       "Retina Display    142\n",
       "Name: count, dtype: int64"
      ]
     },
     "execution_count": 61,
     "metadata": {},
     "output_type": "execute_result"
    }
   ],
   "source": [
    "## Getting count of unique screen resolution for laptops \n",
    "df[\"ScreenResolution\"].value_counts()"
   ]
  },
  {
   "cell_type": "code",
   "execution_count": 62,
   "id": "abbcd96c-3469-4eea-ab17-fa0111498670",
   "metadata": {},
   "outputs": [],
   "source": [
    "## To get the price of laptop a/c to Screen Resolution used group by function\n",
    "screen_res_price = df.groupby(\"ScreenResolution\")[\"Price\"].mean()"
   ]
  },
  {
   "cell_type": "code",
   "execution_count": 63,
   "id": "c5fbad9e-5ccd-4302-8063-e96d3173164a",
   "metadata": {},
   "outputs": [
    {
     "data": {
      "image/png": "[encoded data removed]",
      "text/plain": [
       "<Figure size 1000x500 with 1 Axes>"
      ]
     },
     "metadata": {},
     "output_type": "display_data"
    }
   ],
   "source": [
    "## Plotting bar plot for screen resolution and Price of Laptops.\n",
    "plt.figure(figsize=(10,5))\n",
    "plt.title(\"Price a/c to Screen Resolution\")\n",
    "sns.barplot(x=screen_res_price.index, y = screen_res_price.values, hue = screen_res_price.index)\n",
    "plt.show()"
   ]
  },
  {
   "cell_type": "code",
   "execution_count": 64,
   "id": "ac58a1f1-0937-4241-bc4e-0cdc08a299ab",
   "metadata": {},
   "outputs": [
    {
     "data": {
      "image/png": "[encoded data removed]",
      "text/plain": [
       "<Figure size 640x480 with 1 Axes>"
      ]
     },
     "metadata": {},
     "output_type": "display_data"
    }
   ],
   "source": [
    "## Plotted count plot of type of laptop to get the number of laptops a/c to type.\n",
    "sns.countplot(x = df[\"TypeOfLaptop\"])\n",
    "plt.show()"
   ]
  },
  {
   "cell_type": "code",
   "execution_count": 65,
   "id": "c8da0c28-a880-4867-ae26-4351fce92749",
   "metadata": {},
   "outputs": [
    {
     "data": {
      "text/html": [
       "<div>\n",
       "<style scoped>\n",
       "    .dataframe tbody tr th:only-of-type {\n",
       "        vertical-align: middle;\n",
       "    }\n",
       "\n",
       "    .dataframe tbody tr th {\n",
       "        vertical-align: top;\n",
       "    }\n",
       "\n",
       "    .dataframe thead th {\n",
       "        text-align: right;\n",
       "    }\n",
       "</style>\n",
       "<table border=\"1\" class=\"dataframe\">\n",
       "  <thead>\n",
       "    <tr style=\"text-align: right;\">\n",
       "      <th>Ram</th>\n",
       "      <th>4</th>\n",
       "      <th>8</th>\n",
       "      <th>12</th>\n",
       "      <th>16</th>\n",
       "    </tr>\n",
       "    <tr>\n",
       "      <th>TypeOfLaptop</th>\n",
       "      <th></th>\n",
       "      <th></th>\n",
       "      <th></th>\n",
       "      <th></th>\n",
       "    </tr>\n",
       "  </thead>\n",
       "  <tbody>\n",
       "    <tr>\n",
       "      <th>2_in_1</th>\n",
       "      <td>40</td>\n",
       "      <td>44</td>\n",
       "      <td>45</td>\n",
       "      <td>33</td>\n",
       "    </tr>\n",
       "    <tr>\n",
       "      <th>Business</th>\n",
       "      <td>42</td>\n",
       "      <td>45</td>\n",
       "      <td>53</td>\n",
       "      <td>36</td>\n",
       "    </tr>\n",
       "    <tr>\n",
       "      <th>Gaming</th>\n",
       "      <td>30</td>\n",
       "      <td>51</td>\n",
       "      <td>40</td>\n",
       "      <td>47</td>\n",
       "    </tr>\n",
       "    <tr>\n",
       "      <th>NoteBook</th>\n",
       "      <td>40</td>\n",
       "      <td>36</td>\n",
       "      <td>41</td>\n",
       "      <td>36</td>\n",
       "    </tr>\n",
       "    <tr>\n",
       "      <th>UltraBook</th>\n",
       "      <td>44</td>\n",
       "      <td>48</td>\n",
       "      <td>37</td>\n",
       "      <td>37</td>\n",
       "    </tr>\n",
       "    <tr>\n",
       "      <th>WorkStation</th>\n",
       "      <td>47</td>\n",
       "      <td>46</td>\n",
       "      <td>31</td>\n",
       "      <td>51</td>\n",
       "    </tr>\n",
       "  </tbody>\n",
       "</table>\n",
       "</div>"
      ],
      "text/plain": [
       "Ram           4   8   12  16\n",
       "TypeOfLaptop                \n",
       "2_in_1        40  44  45  33\n",
       "Business      42  45  53  36\n",
       "Gaming        30  51  40  47\n",
       "NoteBook      40  36  41  36\n",
       "UltraBook     44  48  37  37\n",
       "WorkStation   47  46  31  51"
      ]
     },
     "execution_count": 65,
     "metadata": {},
     "output_type": "execute_result"
    }
   ],
   "source": [
    "### To analyse the relation between two columns we use \"crosstab\".\n",
    "## To get the number of laptops according to type of laptops as per Ram\n",
    "pd.crosstab(df[\"TypeOfLaptop\"],df[\"Ram\"])"
   ]
  },
  {
   "cell_type": "code",
   "execution_count": 66,
   "id": "eb114a49-208f-4534-b8b6-126a5d4552f6",
   "metadata": {},
   "outputs": [
    {
     "data": {
      "text/html": [
       "<div>\n",
       "<style scoped>\n",
       "    .dataframe tbody tr th:only-of-type {\n",
       "        vertical-align: middle;\n",
       "    }\n",
       "\n",
       "    .dataframe tbody tr th {\n",
       "        vertical-align: top;\n",
       "    }\n",
       "\n",
       "    .dataframe thead th {\n",
       "        text-align: right;\n",
       "    }\n",
       "</style>\n",
       "<table border=\"1\" class=\"dataframe\">\n",
       "  <thead>\n",
       "    <tr style=\"text-align: right;\">\n",
       "      <th>Gpu</th>\n",
       "      <th>AMD</th>\n",
       "      <th>Intel</th>\n",
       "      <th>NVIDIA</th>\n",
       "    </tr>\n",
       "    <tr>\n",
       "      <th>TypeOfLaptop</th>\n",
       "      <th></th>\n",
       "      <th></th>\n",
       "      <th></th>\n",
       "    </tr>\n",
       "  </thead>\n",
       "  <tbody>\n",
       "    <tr>\n",
       "      <th>2_in_1</th>\n",
       "      <td>47</td>\n",
       "      <td>54</td>\n",
       "      <td>61</td>\n",
       "    </tr>\n",
       "    <tr>\n",
       "      <th>Business</th>\n",
       "      <td>65</td>\n",
       "      <td>49</td>\n",
       "      <td>62</td>\n",
       "    </tr>\n",
       "    <tr>\n",
       "      <th>Gaming</th>\n",
       "      <td>56</td>\n",
       "      <td>50</td>\n",
       "      <td>62</td>\n",
       "    </tr>\n",
       "    <tr>\n",
       "      <th>NoteBook</th>\n",
       "      <td>52</td>\n",
       "      <td>50</td>\n",
       "      <td>51</td>\n",
       "    </tr>\n",
       "    <tr>\n",
       "      <th>UltraBook</th>\n",
       "      <td>55</td>\n",
       "      <td>52</td>\n",
       "      <td>59</td>\n",
       "    </tr>\n",
       "    <tr>\n",
       "      <th>WorkStation</th>\n",
       "      <td>64</td>\n",
       "      <td>58</td>\n",
       "      <td>53</td>\n",
       "    </tr>\n",
       "  </tbody>\n",
       "</table>\n",
       "</div>"
      ],
      "text/plain": [
       "Gpu           AMD  Intel  NVIDIA\n",
       "TypeOfLaptop                    \n",
       "2_in_1         47     54      61\n",
       "Business       65     49      62\n",
       "Gaming         56     50      62\n",
       "NoteBook       52     50      51\n",
       "UltraBook      55     52      59\n",
       "WorkStation    64     58      53"
      ]
     },
     "execution_count": 66,
     "metadata": {},
     "output_type": "execute_result"
    }
   ],
   "source": [
    "### To analyse the relation between two columns we use \"crosstab\".\n",
    "## To get the number of laptops according to type of laptops as per Gpu\n",
    "pd.crosstab(df[\"TypeOfLaptop\"],df[\"Gpu\"])"
   ]
  },
  {
   "cell_type": "code",
   "execution_count": 75,
   "id": "755c680e-5488-4293-be4f-8daf985f9319",
   "metadata": {},
   "outputs": [
    {
     "data": {
      "image/png": "[encoded data removed]",
      "text/plain": [
       "<Figure size 640x480 with 1 Axes>"
      ]
     },
     "metadata": {},
     "output_type": "display_data"
    }
   ],
   "source": [
    "## Visualising the price of laptop as per the company Name\n",
    "plt.title(\"Price of laptop vs company Name\")\n",
    "sns.barplot(x= df[\"CompanyName\"], y = df[\"Price\"])\n",
    "plt.show()"
   ]
  },
  {
   "cell_type": "code",
   "execution_count": 71,
   "id": "a432add5-206d-46e3-9b3b-4131b97e90ce",
   "metadata": {},
   "outputs": [
    {
     "data": {
      "text/html": [
       "<div>\n",
       "<style scoped>\n",
       "    .dataframe tbody tr th:only-of-type {\n",
       "        vertical-align: middle;\n",
       "    }\n",
       "\n",
       "    .dataframe tbody tr th {\n",
       "        vertical-align: top;\n",
       "    }\n",
       "\n",
       "    .dataframe thead th {\n",
       "        text-align: right;\n",
       "    }\n",
       "</style>\n",
       "<table border=\"1\" class=\"dataframe\">\n",
       "  <thead>\n",
       "    <tr style=\"text-align: right;\">\n",
       "      <th></th>\n",
       "      <th>CompanyName</th>\n",
       "      <th>TypeOfLaptop</th>\n",
       "      <th>Inches</th>\n",
       "      <th>ScreenResolution</th>\n",
       "      <th>Cpu</th>\n",
       "      <th>Ram</th>\n",
       "      <th>Gpu</th>\n",
       "      <th>OpSys</th>\n",
       "      <th>Weight</th>\n",
       "      <th>Price</th>\n",
       "      <th>SSD</th>\n",
       "      <th>HDD</th>\n",
       "    </tr>\n",
       "  </thead>\n",
       "  <tbody>\n",
       "    <tr>\n",
       "      <th>0</th>\n",
       "      <td>MSI</td>\n",
       "      <td>Business</td>\n",
       "      <td>17</td>\n",
       "      <td>Retina Display</td>\n",
       "      <td>Intel i7</td>\n",
       "      <td>12</td>\n",
       "      <td>Intel</td>\n",
       "      <td>Linux</td>\n",
       "      <td>2.064834</td>\n",
       "      <td>35844.099371</td>\n",
       "      <td>512GB</td>\n",
       "      <td>0</td>\n",
       "    </tr>\n",
       "    <tr>\n",
       "      <th>2</th>\n",
       "      <td>hp</td>\n",
       "      <td>WorkStation</td>\n",
       "      <td>17</td>\n",
       "      <td>Full HD</td>\n",
       "      <td>Intel Xeon</td>\n",
       "      <td>8</td>\n",
       "      <td>Intel</td>\n",
       "      <td>Linux</td>\n",
       "      <td>2.901689</td>\n",
       "      <td>33329.360341</td>\n",
       "      <td>0</td>\n",
       "      <td>1024</td>\n",
       "    </tr>\n",
       "    <tr>\n",
       "      <th>7</th>\n",
       "      <td>Asus</td>\n",
       "      <td>UltraBook</td>\n",
       "      <td>17</td>\n",
       "      <td>TouchScreen</td>\n",
       "      <td>Intel Celeron</td>\n",
       "      <td>12</td>\n",
       "      <td>NVIDIA</td>\n",
       "      <td>macOS</td>\n",
       "      <td>4.402627</td>\n",
       "      <td>35919.072831</td>\n",
       "      <td>256GB</td>\n",
       "      <td>0</td>\n",
       "    </tr>\n",
       "    <tr>\n",
       "      <th>19</th>\n",
       "      <td>Samsung</td>\n",
       "      <td>WorkStation</td>\n",
       "      <td>17</td>\n",
       "      <td>Retina Display</td>\n",
       "      <td>Intel i9</td>\n",
       "      <td>12</td>\n",
       "      <td>AMD</td>\n",
       "      <td>Linux</td>\n",
       "      <td>4.308988</td>\n",
       "      <td>64759.503411</td>\n",
       "      <td>2TB</td>\n",
       "      <td>0</td>\n",
       "    </tr>\n",
       "    <tr>\n",
       "      <th>26</th>\n",
       "      <td>Asus</td>\n",
       "      <td>Business</td>\n",
       "      <td>17</td>\n",
       "      <td>TouchScreen</td>\n",
       "      <td>AMD 7</td>\n",
       "      <td>16</td>\n",
       "      <td>NVIDIA</td>\n",
       "      <td>macOS</td>\n",
       "      <td>2.971002</td>\n",
       "      <td>43514.934748</td>\n",
       "      <td>0</td>\n",
       "      <td>1024</td>\n",
       "    </tr>\n",
       "    <tr>\n",
       "      <th>...</th>\n",
       "      <td>...</td>\n",
       "      <td>...</td>\n",
       "      <td>...</td>\n",
       "      <td>...</td>\n",
       "      <td>...</td>\n",
       "      <td>...</td>\n",
       "      <td>...</td>\n",
       "      <td>...</td>\n",
       "      <td>...</td>\n",
       "      <td>...</td>\n",
       "      <td>...</td>\n",
       "      <td>...</td>\n",
       "    </tr>\n",
       "    <tr>\n",
       "      <th>977</th>\n",
       "      <td>Apple</td>\n",
       "      <td>2_in_1</td>\n",
       "      <td>17</td>\n",
       "      <td>Full HD</td>\n",
       "      <td>Intel i5</td>\n",
       "      <td>4</td>\n",
       "      <td>Intel</td>\n",
       "      <td>macOS</td>\n",
       "      <td>4.145524</td>\n",
       "      <td>40438.382708</td>\n",
       "      <td>256GB</td>\n",
       "      <td>0</td>\n",
       "    </tr>\n",
       "    <tr>\n",
       "      <th>983</th>\n",
       "      <td>Microsoft</td>\n",
       "      <td>WorkStation</td>\n",
       "      <td>17</td>\n",
       "      <td>2K</td>\n",
       "      <td>Intel Celeron</td>\n",
       "      <td>8</td>\n",
       "      <td>Intel</td>\n",
       "      <td>DOS</td>\n",
       "      <td>4.353292</td>\n",
       "      <td>43896.754079</td>\n",
       "      <td>256GB</td>\n",
       "      <td>0</td>\n",
       "    </tr>\n",
       "    <tr>\n",
       "      <th>988</th>\n",
       "      <td>MSI</td>\n",
       "      <td>NoteBook</td>\n",
       "      <td>17</td>\n",
       "      <td>HD 1920x1080</td>\n",
       "      <td>Intel Atom</td>\n",
       "      <td>16</td>\n",
       "      <td>AMD</td>\n",
       "      <td>DOS</td>\n",
       "      <td>3.365919</td>\n",
       "      <td>32364.429847</td>\n",
       "      <td>2TB</td>\n",
       "      <td>0</td>\n",
       "    </tr>\n",
       "    <tr>\n",
       "      <th>992</th>\n",
       "      <td>lenevo</td>\n",
       "      <td>UltraBook</td>\n",
       "      <td>17</td>\n",
       "      <td>4K</td>\n",
       "      <td>Intel Xeon</td>\n",
       "      <td>8</td>\n",
       "      <td>NVIDIA</td>\n",
       "      <td>macOS</td>\n",
       "      <td>2.748768</td>\n",
       "      <td>33751.485105</td>\n",
       "      <td>1TB</td>\n",
       "      <td>0</td>\n",
       "    </tr>\n",
       "    <tr>\n",
       "      <th>996</th>\n",
       "      <td>Microsoft</td>\n",
       "      <td>WorkStation</td>\n",
       "      <td>17</td>\n",
       "      <td>4K</td>\n",
       "      <td>Intel Celeron</td>\n",
       "      <td>8</td>\n",
       "      <td>NVIDIA</td>\n",
       "      <td>macOS</td>\n",
       "      <td>3.934182</td>\n",
       "      <td>57272.697780</td>\n",
       "      <td>2TB</td>\n",
       "      <td>0</td>\n",
       "    </tr>\n",
       "  </tbody>\n",
       "</table>\n",
       "<p>157 rows × 12 columns</p>\n",
       "</div>"
      ],
      "text/plain": [
       "    CompanyName TypeOfLaptop  Inches ScreenResolution            Cpu  Ram  \\\n",
       "0           MSI     Business      17   Retina Display       Intel i7   12   \n",
       "2            hp  WorkStation      17          Full HD     Intel Xeon    8   \n",
       "7          Asus    UltraBook      17      TouchScreen  Intel Celeron   12   \n",
       "19      Samsung  WorkStation      17   Retina Display       Intel i9   12   \n",
       "26         Asus     Business      17      TouchScreen          AMD 7   16   \n",
       "..          ...          ...     ...              ...            ...  ...   \n",
       "977       Apple       2_in_1      17          Full HD       Intel i5    4   \n",
       "983   Microsoft  WorkStation      17               2K  Intel Celeron    8   \n",
       "988         MSI     NoteBook      17    HD 1920x1080      Intel Atom   16   \n",
       "992      lenevo    UltraBook      17               4K     Intel Xeon    8   \n",
       "996   Microsoft  WorkStation      17               4K  Intel Celeron    8   \n",
       "\n",
       "        Gpu  OpSys    Weight         Price     SSD   HDD  \n",
       "0     Intel  Linux  2.064834  35844.099371  512GB      0  \n",
       "2     Intel  Linux  2.901689  33329.360341       0  1024  \n",
       "7    NVIDIA  macOS  4.402627  35919.072831  256GB      0  \n",
       "19      AMD  Linux  4.308988  64759.503411    2TB      0  \n",
       "26   NVIDIA  macOS  2.971002  43514.934748       0  1024  \n",
       "..      ...    ...       ...           ...     ...   ...  \n",
       "977   Intel  macOS  4.145524  40438.382708  256GB      0  \n",
       "983   Intel    DOS  4.353292  43896.754079  256GB      0  \n",
       "988     AMD    DOS  3.365919  32364.429847    2TB      0  \n",
       "992  NVIDIA  macOS  2.748768  33751.485105    1TB      0  \n",
       "996  NVIDIA  macOS  3.934182  57272.697780    2TB      0  \n",
       "\n",
       "[157 rows x 12 columns]"
      ]
     },
     "execution_count": 71,
     "metadata": {},
     "output_type": "execute_result"
    }
   ],
   "source": [
    "## Data Query\n",
    "df.query(\"Inches == 17\")"
   ]
  },
  {
   "cell_type": "code",
   "execution_count": 74,
   "id": "fe7dc2e7-1818-4057-b81a-c8620ab360ac",
   "metadata": {},
   "outputs": [
    {
     "data": {
      "text/html": [
       "<div>\n",
       "<style scoped>\n",
       "    .dataframe tbody tr th:only-of-type {\n",
       "        vertical-align: middle;\n",
       "    }\n",
       "\n",
       "    .dataframe tbody tr th {\n",
       "        vertical-align: top;\n",
       "    }\n",
       "\n",
       "    .dataframe thead th {\n",
       "        text-align: right;\n",
       "    }\n",
       "</style>\n",
       "<table border=\"1\" class=\"dataframe\">\n",
       "  <thead>\n",
       "    <tr style=\"text-align: right;\">\n",
       "      <th></th>\n",
       "      <th>CompanyName</th>\n",
       "      <th>TypeOfLaptop</th>\n",
       "      <th>Inches</th>\n",
       "      <th>ScreenResolution</th>\n",
       "      <th>Cpu</th>\n",
       "      <th>Ram</th>\n",
       "      <th>Gpu</th>\n",
       "      <th>OpSys</th>\n",
       "      <th>Weight</th>\n",
       "      <th>Price</th>\n",
       "      <th>SSD</th>\n",
       "      <th>HDD</th>\n",
       "    </tr>\n",
       "  </thead>\n",
       "  <tbody>\n",
       "    <tr>\n",
       "      <th>3</th>\n",
       "      <td>MSI</td>\n",
       "      <td>2_in_1</td>\n",
       "      <td>11</td>\n",
       "      <td>2K</td>\n",
       "      <td>Intel i7</td>\n",
       "      <td>16</td>\n",
       "      <td>Intel</td>\n",
       "      <td>Win10</td>\n",
       "      <td>2.914843</td>\n",
       "      <td>68631.102486</td>\n",
       "      <td>512GB</td>\n",
       "      <td>0</td>\n",
       "    </tr>\n",
       "    <tr>\n",
       "      <th>36</th>\n",
       "      <td>hp</td>\n",
       "      <td>2_in_1</td>\n",
       "      <td>15</td>\n",
       "      <td>HD 1920x1080</td>\n",
       "      <td>Intel Atom</td>\n",
       "      <td>16</td>\n",
       "      <td>NVIDIA</td>\n",
       "      <td>DOS</td>\n",
       "      <td>3.470843</td>\n",
       "      <td>49294.292481</td>\n",
       "      <td>2TB</td>\n",
       "      <td>0</td>\n",
       "    </tr>\n",
       "    <tr>\n",
       "      <th>57</th>\n",
       "      <td>MSI</td>\n",
       "      <td>2_in_1</td>\n",
       "      <td>13</td>\n",
       "      <td>HD 1920x1080</td>\n",
       "      <td>Intel Celeron</td>\n",
       "      <td>16</td>\n",
       "      <td>Intel</td>\n",
       "      <td>Win10</td>\n",
       "      <td>3.718543</td>\n",
       "      <td>61479.849352</td>\n",
       "      <td>0</td>\n",
       "      <td>2048</td>\n",
       "    </tr>\n",
       "    <tr>\n",
       "      <th>61</th>\n",
       "      <td>Microsoft</td>\n",
       "      <td>2_in_1</td>\n",
       "      <td>17</td>\n",
       "      <td>TouchScreen</td>\n",
       "      <td>Intel i5</td>\n",
       "      <td>16</td>\n",
       "      <td>Intel</td>\n",
       "      <td>macOS</td>\n",
       "      <td>3.354578</td>\n",
       "      <td>32579.902620</td>\n",
       "      <td>256GB</td>\n",
       "      <td>0</td>\n",
       "    </tr>\n",
       "    <tr>\n",
       "      <th>128</th>\n",
       "      <td>hp</td>\n",
       "      <td>2_in_1</td>\n",
       "      <td>16</td>\n",
       "      <td>HD 1920x1080</td>\n",
       "      <td>AMD A9</td>\n",
       "      <td>16</td>\n",
       "      <td>Intel</td>\n",
       "      <td>DOS</td>\n",
       "      <td>3.586858</td>\n",
       "      <td>63003.847260</td>\n",
       "      <td>1TB</td>\n",
       "      <td>0</td>\n",
       "    </tr>\n",
       "    <tr>\n",
       "      <th>153</th>\n",
       "      <td>Apple</td>\n",
       "      <td>2_in_1</td>\n",
       "      <td>16</td>\n",
       "      <td>4K</td>\n",
       "      <td>AMD 5</td>\n",
       "      <td>16</td>\n",
       "      <td>NVIDIA</td>\n",
       "      <td>DOS</td>\n",
       "      <td>4.307612</td>\n",
       "      <td>60057.631649</td>\n",
       "      <td>128GB</td>\n",
       "      <td>0</td>\n",
       "    </tr>\n",
       "    <tr>\n",
       "      <th>231</th>\n",
       "      <td>lenevo</td>\n",
       "      <td>2_in_1</td>\n",
       "      <td>16</td>\n",
       "      <td>HD 1920x1080</td>\n",
       "      <td>Intel i9</td>\n",
       "      <td>16</td>\n",
       "      <td>AMD</td>\n",
       "      <td>Win11</td>\n",
       "      <td>3.451548</td>\n",
       "      <td>63270.446335</td>\n",
       "      <td>256GB</td>\n",
       "      <td>0</td>\n",
       "    </tr>\n",
       "    <tr>\n",
       "      <th>257</th>\n",
       "      <td>Microsoft</td>\n",
       "      <td>2_in_1</td>\n",
       "      <td>14</td>\n",
       "      <td>HD 1920x1080</td>\n",
       "      <td>Intel Xeon</td>\n",
       "      <td>16</td>\n",
       "      <td>NVIDIA</td>\n",
       "      <td>macOS</td>\n",
       "      <td>2.800435</td>\n",
       "      <td>58712.692949</td>\n",
       "      <td>256GB</td>\n",
       "      <td>0</td>\n",
       "    </tr>\n",
       "    <tr>\n",
       "      <th>273</th>\n",
       "      <td>Apple</td>\n",
       "      <td>2_in_1</td>\n",
       "      <td>12</td>\n",
       "      <td>TouchScreen</td>\n",
       "      <td>Intel i5</td>\n",
       "      <td>16</td>\n",
       "      <td>Intel</td>\n",
       "      <td>DOS</td>\n",
       "      <td>4.370684</td>\n",
       "      <td>43177.194911</td>\n",
       "      <td>256GB</td>\n",
       "      <td>0</td>\n",
       "    </tr>\n",
       "    <tr>\n",
       "      <th>274</th>\n",
       "      <td>Microsoft</td>\n",
       "      <td>2_in_1</td>\n",
       "      <td>11</td>\n",
       "      <td>4K</td>\n",
       "      <td>Intel Pentium</td>\n",
       "      <td>16</td>\n",
       "      <td>AMD</td>\n",
       "      <td>macOS</td>\n",
       "      <td>4.572192</td>\n",
       "      <td>46367.591604</td>\n",
       "      <td>256GB</td>\n",
       "      <td>0</td>\n",
       "    </tr>\n",
       "    <tr>\n",
       "      <th>280</th>\n",
       "      <td>Apple</td>\n",
       "      <td>2_in_1</td>\n",
       "      <td>16</td>\n",
       "      <td>Retina Display</td>\n",
       "      <td>Intel i5</td>\n",
       "      <td>16</td>\n",
       "      <td>Intel</td>\n",
       "      <td>DOS</td>\n",
       "      <td>2.851182</td>\n",
       "      <td>35070.155851</td>\n",
       "      <td>0</td>\n",
       "      <td>1024</td>\n",
       "    </tr>\n",
       "    <tr>\n",
       "      <th>293</th>\n",
       "      <td>Dell</td>\n",
       "      <td>2_in_1</td>\n",
       "      <td>15</td>\n",
       "      <td>Full HD</td>\n",
       "      <td>Intel i7</td>\n",
       "      <td>16</td>\n",
       "      <td>Intel</td>\n",
       "      <td>Linux</td>\n",
       "      <td>4.227888</td>\n",
       "      <td>45343.841603</td>\n",
       "      <td>1TB</td>\n",
       "      <td>0</td>\n",
       "    </tr>\n",
       "    <tr>\n",
       "      <th>299</th>\n",
       "      <td>hp</td>\n",
       "      <td>2_in_1</td>\n",
       "      <td>13</td>\n",
       "      <td>4K</td>\n",
       "      <td>AMD 7</td>\n",
       "      <td>16</td>\n",
       "      <td>Intel</td>\n",
       "      <td>Win10</td>\n",
       "      <td>4.462700</td>\n",
       "      <td>62618.824850</td>\n",
       "      <td>512GB</td>\n",
       "      <td>0</td>\n",
       "    </tr>\n",
       "    <tr>\n",
       "      <th>307</th>\n",
       "      <td>Apple</td>\n",
       "      <td>2_in_1</td>\n",
       "      <td>12</td>\n",
       "      <td>Retina Display</td>\n",
       "      <td>AMD 5</td>\n",
       "      <td>16</td>\n",
       "      <td>AMD</td>\n",
       "      <td>Win10</td>\n",
       "      <td>2.904897</td>\n",
       "      <td>48090.564350</td>\n",
       "      <td>0</td>\n",
       "      <td>1024</td>\n",
       "    </tr>\n",
       "    <tr>\n",
       "      <th>310</th>\n",
       "      <td>Acer</td>\n",
       "      <td>2_in_1</td>\n",
       "      <td>15</td>\n",
       "      <td>2K</td>\n",
       "      <td>Intel Pentium</td>\n",
       "      <td>16</td>\n",
       "      <td>AMD</td>\n",
       "      <td>Win10</td>\n",
       "      <td>3.495028</td>\n",
       "      <td>51833.384621</td>\n",
       "      <td>2TB</td>\n",
       "      <td>0</td>\n",
       "    </tr>\n",
       "    <tr>\n",
       "      <th>430</th>\n",
       "      <td>Samsung</td>\n",
       "      <td>2_in_1</td>\n",
       "      <td>12</td>\n",
       "      <td>4K</td>\n",
       "      <td>AMD 7</td>\n",
       "      <td>16</td>\n",
       "      <td>Intel</td>\n",
       "      <td>macOS</td>\n",
       "      <td>4.356464</td>\n",
       "      <td>68356.543991</td>\n",
       "      <td>256GB</td>\n",
       "      <td>0</td>\n",
       "    </tr>\n",
       "    <tr>\n",
       "      <th>435</th>\n",
       "      <td>Apple</td>\n",
       "      <td>2_in_1</td>\n",
       "      <td>15</td>\n",
       "      <td>4K</td>\n",
       "      <td>Intel i5</td>\n",
       "      <td>16</td>\n",
       "      <td>NVIDIA</td>\n",
       "      <td>Win11</td>\n",
       "      <td>4.484592</td>\n",
       "      <td>59932.246135</td>\n",
       "      <td>0</td>\n",
       "      <td>6144</td>\n",
       "    </tr>\n",
       "    <tr>\n",
       "      <th>457</th>\n",
       "      <td>Asus</td>\n",
       "      <td>2_in_1</td>\n",
       "      <td>16</td>\n",
       "      <td>TouchScreen</td>\n",
       "      <td>Intel i5</td>\n",
       "      <td>16</td>\n",
       "      <td>NVIDIA</td>\n",
       "      <td>macOS</td>\n",
       "      <td>4.151372</td>\n",
       "      <td>63591.020884</td>\n",
       "      <td>0</td>\n",
       "      <td>1024</td>\n",
       "    </tr>\n",
       "    <tr>\n",
       "      <th>520</th>\n",
       "      <td>Acer</td>\n",
       "      <td>2_in_1</td>\n",
       "      <td>14</td>\n",
       "      <td>TouchScreen</td>\n",
       "      <td>Intel Xeon</td>\n",
       "      <td>16</td>\n",
       "      <td>AMD</td>\n",
       "      <td>Win11</td>\n",
       "      <td>3.458268</td>\n",
       "      <td>52561.260287</td>\n",
       "      <td>256GB</td>\n",
       "      <td>0</td>\n",
       "    </tr>\n",
       "    <tr>\n",
       "      <th>545</th>\n",
       "      <td>Acer</td>\n",
       "      <td>2_in_1</td>\n",
       "      <td>16</td>\n",
       "      <td>Full HD</td>\n",
       "      <td>Intel i5</td>\n",
       "      <td>16</td>\n",
       "      <td>Intel</td>\n",
       "      <td>macOS</td>\n",
       "      <td>2.200810</td>\n",
       "      <td>59730.404625</td>\n",
       "      <td>256GB</td>\n",
       "      <td>0</td>\n",
       "    </tr>\n",
       "    <tr>\n",
       "      <th>601</th>\n",
       "      <td>Dell</td>\n",
       "      <td>2_in_1</td>\n",
       "      <td>11</td>\n",
       "      <td>4K</td>\n",
       "      <td>Intel i5</td>\n",
       "      <td>16</td>\n",
       "      <td>NVIDIA</td>\n",
       "      <td>macOS</td>\n",
       "      <td>4.439986</td>\n",
       "      <td>61553.206016</td>\n",
       "      <td>0</td>\n",
       "      <td>2048</td>\n",
       "    </tr>\n",
       "    <tr>\n",
       "      <th>605</th>\n",
       "      <td>hp</td>\n",
       "      <td>2_in_1</td>\n",
       "      <td>15</td>\n",
       "      <td>2K</td>\n",
       "      <td>Intel Atom</td>\n",
       "      <td>16</td>\n",
       "      <td>NVIDIA</td>\n",
       "      <td>Win10</td>\n",
       "      <td>2.327148</td>\n",
       "      <td>52326.665275</td>\n",
       "      <td>256GB</td>\n",
       "      <td>0</td>\n",
       "    </tr>\n",
       "    <tr>\n",
       "      <th>655</th>\n",
       "      <td>MSI</td>\n",
       "      <td>2_in_1</td>\n",
       "      <td>17</td>\n",
       "      <td>HD 1920x1080</td>\n",
       "      <td>Intel i7</td>\n",
       "      <td>16</td>\n",
       "      <td>AMD</td>\n",
       "      <td>Win10</td>\n",
       "      <td>3.639354</td>\n",
       "      <td>42148.141076</td>\n",
       "      <td>256GB</td>\n",
       "      <td>0</td>\n",
       "    </tr>\n",
       "    <tr>\n",
       "      <th>717</th>\n",
       "      <td>Acer</td>\n",
       "      <td>2_in_1</td>\n",
       "      <td>12</td>\n",
       "      <td>2K</td>\n",
       "      <td>Intel Xeon</td>\n",
       "      <td>16</td>\n",
       "      <td>NVIDIA</td>\n",
       "      <td>macOS</td>\n",
       "      <td>4.886403</td>\n",
       "      <td>39656.853137</td>\n",
       "      <td>0</td>\n",
       "      <td>4096</td>\n",
       "    </tr>\n",
       "    <tr>\n",
       "      <th>759</th>\n",
       "      <td>Apple</td>\n",
       "      <td>2_in_1</td>\n",
       "      <td>14</td>\n",
       "      <td>Full HD</td>\n",
       "      <td>Intel i5</td>\n",
       "      <td>16</td>\n",
       "      <td>NVIDIA</td>\n",
       "      <td>DOS</td>\n",
       "      <td>3.451401</td>\n",
       "      <td>62786.878364</td>\n",
       "      <td>256GB</td>\n",
       "      <td>0</td>\n",
       "    </tr>\n",
       "    <tr>\n",
       "      <th>764</th>\n",
       "      <td>lenevo</td>\n",
       "      <td>2_in_1</td>\n",
       "      <td>16</td>\n",
       "      <td>Retina Display</td>\n",
       "      <td>Intel i9</td>\n",
       "      <td>16</td>\n",
       "      <td>NVIDIA</td>\n",
       "      <td>DOS</td>\n",
       "      <td>4.552949</td>\n",
       "      <td>36146.556917</td>\n",
       "      <td>0</td>\n",
       "      <td>1024</td>\n",
       "    </tr>\n",
       "    <tr>\n",
       "      <th>779</th>\n",
       "      <td>Microsoft</td>\n",
       "      <td>2_in_1</td>\n",
       "      <td>15</td>\n",
       "      <td>HD 1920x1080</td>\n",
       "      <td>AMD 7</td>\n",
       "      <td>16</td>\n",
       "      <td>Intel</td>\n",
       "      <td>Win11</td>\n",
       "      <td>3.235199</td>\n",
       "      <td>56363.269825</td>\n",
       "      <td>128GB</td>\n",
       "      <td>0</td>\n",
       "    </tr>\n",
       "    <tr>\n",
       "      <th>797</th>\n",
       "      <td>lenevo</td>\n",
       "      <td>2_in_1</td>\n",
       "      <td>15</td>\n",
       "      <td>4K</td>\n",
       "      <td>Intel Celeron</td>\n",
       "      <td>16</td>\n",
       "      <td>AMD</td>\n",
       "      <td>DOS</td>\n",
       "      <td>4.651166</td>\n",
       "      <td>58295.960455</td>\n",
       "      <td>512GB</td>\n",
       "      <td>0</td>\n",
       "    </tr>\n",
       "    <tr>\n",
       "      <th>822</th>\n",
       "      <td>MSI</td>\n",
       "      <td>2_in_1</td>\n",
       "      <td>12</td>\n",
       "      <td>4K</td>\n",
       "      <td>Intel Atom</td>\n",
       "      <td>16</td>\n",
       "      <td>NVIDIA</td>\n",
       "      <td>Linux</td>\n",
       "      <td>4.543517</td>\n",
       "      <td>40708.639809</td>\n",
       "      <td>1TB</td>\n",
       "      <td>0</td>\n",
       "    </tr>\n",
       "    <tr>\n",
       "      <th>847</th>\n",
       "      <td>lenevo</td>\n",
       "      <td>2_in_1</td>\n",
       "      <td>12</td>\n",
       "      <td>2K</td>\n",
       "      <td>Intel Pentium</td>\n",
       "      <td>16</td>\n",
       "      <td>Intel</td>\n",
       "      <td>Linux</td>\n",
       "      <td>4.930258</td>\n",
       "      <td>57662.954951</td>\n",
       "      <td>0</td>\n",
       "      <td>4096</td>\n",
       "    </tr>\n",
       "    <tr>\n",
       "      <th>852</th>\n",
       "      <td>Dell</td>\n",
       "      <td>2_in_1</td>\n",
       "      <td>12</td>\n",
       "      <td>HD 1920x1080</td>\n",
       "      <td>Intel Celeron</td>\n",
       "      <td>16</td>\n",
       "      <td>AMD</td>\n",
       "      <td>Win11</td>\n",
       "      <td>3.386533</td>\n",
       "      <td>44374.526787</td>\n",
       "      <td>2TB</td>\n",
       "      <td>0</td>\n",
       "    </tr>\n",
       "    <tr>\n",
       "      <th>872</th>\n",
       "      <td>hp</td>\n",
       "      <td>2_in_1</td>\n",
       "      <td>14</td>\n",
       "      <td>4K</td>\n",
       "      <td>Intel Atom</td>\n",
       "      <td>16</td>\n",
       "      <td>NVIDIA</td>\n",
       "      <td>Win10</td>\n",
       "      <td>2.737321</td>\n",
       "      <td>58415.036869</td>\n",
       "      <td>1TB</td>\n",
       "      <td>0</td>\n",
       "    </tr>\n",
       "    <tr>\n",
       "      <th>947</th>\n",
       "      <td>Apple</td>\n",
       "      <td>2_in_1</td>\n",
       "      <td>12</td>\n",
       "      <td>HD 1920x1080</td>\n",
       "      <td>AMD 5</td>\n",
       "      <td>16</td>\n",
       "      <td>Intel</td>\n",
       "      <td>Win11</td>\n",
       "      <td>2.352907</td>\n",
       "      <td>42015.532925</td>\n",
       "      <td>128GB</td>\n",
       "      <td>0</td>\n",
       "    </tr>\n",
       "  </tbody>\n",
       "</table>\n",
       "</div>"
      ],
      "text/plain": [
       "    CompanyName TypeOfLaptop  Inches ScreenResolution            Cpu  Ram  \\\n",
       "3           MSI       2_in_1      11               2K       Intel i7   16   \n",
       "36           hp       2_in_1      15    HD 1920x1080      Intel Atom   16   \n",
       "57          MSI       2_in_1      13    HD 1920x1080   Intel Celeron   16   \n",
       "61    Microsoft       2_in_1      17      TouchScreen       Intel i5   16   \n",
       "128          hp       2_in_1      16    HD 1920x1080          AMD A9   16   \n",
       "153       Apple       2_in_1      16               4K          AMD 5   16   \n",
       "231      lenevo       2_in_1      16    HD 1920x1080        Intel i9   16   \n",
       "257   Microsoft       2_in_1      14    HD 1920x1080      Intel Xeon   16   \n",
       "273       Apple       2_in_1      12      TouchScreen       Intel i5   16   \n",
       "274   Microsoft       2_in_1      11               4K  Intel Pentium   16   \n",
       "280       Apple       2_in_1      16   Retina Display       Intel i5   16   \n",
       "293        Dell       2_in_1      15          Full HD       Intel i7   16   \n",
       "299          hp       2_in_1      13               4K          AMD 7   16   \n",
       "307       Apple       2_in_1      12   Retina Display          AMD 5   16   \n",
       "310        Acer       2_in_1      15               2K  Intel Pentium   16   \n",
       "430     Samsung       2_in_1      12               4K          AMD 7   16   \n",
       "435       Apple       2_in_1      15               4K       Intel i5   16   \n",
       "457        Asus       2_in_1      16      TouchScreen       Intel i5   16   \n",
       "520        Acer       2_in_1      14      TouchScreen     Intel Xeon   16   \n",
       "545        Acer       2_in_1      16          Full HD       Intel i5   16   \n",
       "601        Dell       2_in_1      11               4K       Intel i5   16   \n",
       "605          hp       2_in_1      15               2K     Intel Atom   16   \n",
       "655         MSI       2_in_1      17    HD 1920x1080        Intel i7   16   \n",
       "717        Acer       2_in_1      12               2K     Intel Xeon   16   \n",
       "759       Apple       2_in_1      14          Full HD       Intel i5   16   \n",
       "764      lenevo       2_in_1      16   Retina Display       Intel i9   16   \n",
       "779   Microsoft       2_in_1      15    HD 1920x1080           AMD 7   16   \n",
       "797      lenevo       2_in_1      15               4K  Intel Celeron   16   \n",
       "822         MSI       2_in_1      12               4K     Intel Atom   16   \n",
       "847      lenevo       2_in_1      12               2K  Intel Pentium   16   \n",
       "852        Dell       2_in_1      12    HD 1920x1080   Intel Celeron   16   \n",
       "872          hp       2_in_1      14               4K     Intel Atom   16   \n",
       "947       Apple       2_in_1      12    HD 1920x1080           AMD 5   16   \n",
       "\n",
       "        Gpu  OpSys    Weight         Price     SSD   HDD  \n",
       "3     Intel  Win10  2.914843  68631.102486  512GB      0  \n",
       "36   NVIDIA    DOS  3.470843  49294.292481    2TB      0  \n",
       "57    Intel  Win10  3.718543  61479.849352       0  2048  \n",
       "61    Intel  macOS  3.354578  32579.902620  256GB      0  \n",
       "128   Intel    DOS  3.586858  63003.847260    1TB      0  \n",
       "153  NVIDIA    DOS  4.307612  60057.631649  128GB      0  \n",
       "231     AMD  Win11  3.451548  63270.446335  256GB      0  \n",
       "257  NVIDIA  macOS  2.800435  58712.692949  256GB      0  \n",
       "273   Intel    DOS  4.370684  43177.194911  256GB      0  \n",
       "274     AMD  macOS  4.572192  46367.591604  256GB      0  \n",
       "280   Intel    DOS  2.851182  35070.155851       0  1024  \n",
       "293   Intel  Linux  4.227888  45343.841603    1TB      0  \n",
       "299   Intel  Win10  4.462700  62618.824850  512GB      0  \n",
       "307     AMD  Win10  2.904897  48090.564350       0  1024  \n",
       "310     AMD  Win10  3.495028  51833.384621    2TB      0  \n",
       "430   Intel  macOS  4.356464  68356.543991  256GB      0  \n",
       "435  NVIDIA  Win11  4.484592  59932.246135       0  6144  \n",
       "457  NVIDIA  macOS  4.151372  63591.020884       0  1024  \n",
       "520     AMD  Win11  3.458268  52561.260287  256GB      0  \n",
       "545   Intel  macOS  2.200810  59730.404625  256GB      0  \n",
       "601  NVIDIA  macOS  4.439986  61553.206016       0  2048  \n",
       "605  NVIDIA  Win10  2.327148  52326.665275  256GB      0  \n",
       "655     AMD  Win10  3.639354  42148.141076  256GB      0  \n",
       "717  NVIDIA  macOS  4.886403  39656.853137       0  4096  \n",
       "759  NVIDIA    DOS  3.451401  62786.878364  256GB      0  \n",
       "764  NVIDIA    DOS  4.552949  36146.556917       0  1024  \n",
       "779   Intel  Win11  3.235199  56363.269825  128GB      0  \n",
       "797     AMD    DOS  4.651166  58295.960455  512GB      0  \n",
       "822  NVIDIA  Linux  4.543517  40708.639809    1TB      0  \n",
       "847   Intel  Linux  4.930258  57662.954951       0  4096  \n",
       "852     AMD  Win11  3.386533  44374.526787    2TB      0  \n",
       "872  NVIDIA  Win10  2.737321  58415.036869    1TB      0  \n",
       "947   Intel  Win11  2.352907  42015.532925  128GB      0  "
      ]
     },
     "execution_count": 74,
     "metadata": {},
     "output_type": "execute_result"
    }
   ],
   "source": [
    "df.query(\"Ram == 16 and TypeOfLaptop == '2_in_1'\")"
   ]
  }
 ],
 "metadata": {
  "kernelspec": {
   "display_name": "Python 3 (ipykernel)",
   "language": "python",
   "name": "python3"
  },
  "language_info": {
   "codemirror_mode": {
    "name": "ipython",
    "version": 3
   },
   "file_extension": ".py",
   "mimetype": "text/x-python",
   "name": "python",
   "nbconvert_exporter": "python",
   "pygments_lexer": "ipython3",
   "version": "3.10.8"
  }
 },
 "nbformat": 4,
 "nbformat_minor": 5
}
